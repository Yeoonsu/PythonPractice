{
  "nbformat": 4,
  "nbformat_minor": 0,
  "metadata": {
    "colab": {
      "name": "Pytorch CIFAR-10 MLP.ipynb",
      "provenance": [],
      "collapsed_sections": [],
      "authorship_tag": "ABX9TyM91XLJ/mGIH5QySzjceERd",
      "include_colab_link": true
    },
    "kernelspec": {
      "name": "python3",
      "display_name": "Python 3"
    },
    "language_info": {
      "name": "python"
    },
    "widgets": {
      "application/vnd.jupyter.widget-state+json": {
        "68482da44eeb488ab9803887c40a0aea": {
          "model_module": "@jupyter-widgets/controls",
          "model_name": "HBoxModel",
          "model_module_version": "1.5.0",
          "state": {
            "_dom_classes": [],
            "_model_module": "@jupyter-widgets/controls",
            "_model_module_version": "1.5.0",
            "_model_name": "HBoxModel",
            "_view_count": null,
            "_view_module": "@jupyter-widgets/controls",
            "_view_module_version": "1.5.0",
            "_view_name": "HBoxView",
            "box_style": "",
            "children": [
              "IPY_MODEL_f5c9ffc2252d490484a7430b5a1da403",
              "IPY_MODEL_e381f9fabffe455e8e3d548cc2582109",
              "IPY_MODEL_8f9f072e878f4900b954f32570957d51"
            ],
            "layout": "IPY_MODEL_c253b32d6e134ddba6fd251e0ef8a67d"
          }
        },
        "f5c9ffc2252d490484a7430b5a1da403": {
          "model_module": "@jupyter-widgets/controls",
          "model_name": "HTMLModel",
          "model_module_version": "1.5.0",
          "state": {
            "_dom_classes": [],
            "_model_module": "@jupyter-widgets/controls",
            "_model_module_version": "1.5.0",
            "_model_name": "HTMLModel",
            "_view_count": null,
            "_view_module": "@jupyter-widgets/controls",
            "_view_module_version": "1.5.0",
            "_view_name": "HTMLView",
            "description": "",
            "description_tooltip": null,
            "layout": "IPY_MODEL_0e97dfa0703e4972a6693daaf359ce87",
            "placeholder": "​",
            "style": "IPY_MODEL_b9bcb9c4a7e4478189eea4edd3a925cf",
            "value": ""
          }
        },
        "e381f9fabffe455e8e3d548cc2582109": {
          "model_module": "@jupyter-widgets/controls",
          "model_name": "FloatProgressModel",
          "model_module_version": "1.5.0",
          "state": {
            "_dom_classes": [],
            "_model_module": "@jupyter-widgets/controls",
            "_model_module_version": "1.5.0",
            "_model_name": "FloatProgressModel",
            "_view_count": null,
            "_view_module": "@jupyter-widgets/controls",
            "_view_module_version": "1.5.0",
            "_view_name": "ProgressView",
            "bar_style": "success",
            "description": "",
            "description_tooltip": null,
            "layout": "IPY_MODEL_c178c9bc04464329b29b69bfb483940a",
            "max": 170498071,
            "min": 0,
            "orientation": "horizontal",
            "style": "IPY_MODEL_825dd97a3147477cbafd287066506359",
            "value": 170498071
          }
        },
        "8f9f072e878f4900b954f32570957d51": {
          "model_module": "@jupyter-widgets/controls",
          "model_name": "HTMLModel",
          "model_module_version": "1.5.0",
          "state": {
            "_dom_classes": [],
            "_model_module": "@jupyter-widgets/controls",
            "_model_module_version": "1.5.0",
            "_model_name": "HTMLModel",
            "_view_count": null,
            "_view_module": "@jupyter-widgets/controls",
            "_view_module_version": "1.5.0",
            "_view_name": "HTMLView",
            "description": "",
            "description_tooltip": null,
            "layout": "IPY_MODEL_43b6f85af3bb4defaf01f641f5c0fdb2",
            "placeholder": "​",
            "style": "IPY_MODEL_751ad12ce55e4a7f9e86ba21a24f8537",
            "value": " 170499072/? [00:04&lt;00:00, 33883009.70it/s]"
          }
        },
        "c253b32d6e134ddba6fd251e0ef8a67d": {
          "model_module": "@jupyter-widgets/base",
          "model_name": "LayoutModel",
          "model_module_version": "1.2.0",
          "state": {
            "_model_module": "@jupyter-widgets/base",
            "_model_module_version": "1.2.0",
            "_model_name": "LayoutModel",
            "_view_count": null,
            "_view_module": "@jupyter-widgets/base",
            "_view_module_version": "1.2.0",
            "_view_name": "LayoutView",
            "align_content": null,
            "align_items": null,
            "align_self": null,
            "border": null,
            "bottom": null,
            "display": null,
            "flex": null,
            "flex_flow": null,
            "grid_area": null,
            "grid_auto_columns": null,
            "grid_auto_flow": null,
            "grid_auto_rows": null,
            "grid_column": null,
            "grid_gap": null,
            "grid_row": null,
            "grid_template_areas": null,
            "grid_template_columns": null,
            "grid_template_rows": null,
            "height": null,
            "justify_content": null,
            "justify_items": null,
            "left": null,
            "margin": null,
            "max_height": null,
            "max_width": null,
            "min_height": null,
            "min_width": null,
            "object_fit": null,
            "object_position": null,
            "order": null,
            "overflow": null,
            "overflow_x": null,
            "overflow_y": null,
            "padding": null,
            "right": null,
            "top": null,
            "visibility": null,
            "width": null
          }
        },
        "0e97dfa0703e4972a6693daaf359ce87": {
          "model_module": "@jupyter-widgets/base",
          "model_name": "LayoutModel",
          "model_module_version": "1.2.0",
          "state": {
            "_model_module": "@jupyter-widgets/base",
            "_model_module_version": "1.2.0",
            "_model_name": "LayoutModel",
            "_view_count": null,
            "_view_module": "@jupyter-widgets/base",
            "_view_module_version": "1.2.0",
            "_view_name": "LayoutView",
            "align_content": null,
            "align_items": null,
            "align_self": null,
            "border": null,
            "bottom": null,
            "display": null,
            "flex": null,
            "flex_flow": null,
            "grid_area": null,
            "grid_auto_columns": null,
            "grid_auto_flow": null,
            "grid_auto_rows": null,
            "grid_column": null,
            "grid_gap": null,
            "grid_row": null,
            "grid_template_areas": null,
            "grid_template_columns": null,
            "grid_template_rows": null,
            "height": null,
            "justify_content": null,
            "justify_items": null,
            "left": null,
            "margin": null,
            "max_height": null,
            "max_width": null,
            "min_height": null,
            "min_width": null,
            "object_fit": null,
            "object_position": null,
            "order": null,
            "overflow": null,
            "overflow_x": null,
            "overflow_y": null,
            "padding": null,
            "right": null,
            "top": null,
            "visibility": null,
            "width": null
          }
        },
        "b9bcb9c4a7e4478189eea4edd3a925cf": {
          "model_module": "@jupyter-widgets/controls",
          "model_name": "DescriptionStyleModel",
          "model_module_version": "1.5.0",
          "state": {
            "_model_module": "@jupyter-widgets/controls",
            "_model_module_version": "1.5.0",
            "_model_name": "DescriptionStyleModel",
            "_view_count": null,
            "_view_module": "@jupyter-widgets/base",
            "_view_module_version": "1.2.0",
            "_view_name": "StyleView",
            "description_width": ""
          }
        },
        "c178c9bc04464329b29b69bfb483940a": {
          "model_module": "@jupyter-widgets/base",
          "model_name": "LayoutModel",
          "model_module_version": "1.2.0",
          "state": {
            "_model_module": "@jupyter-widgets/base",
            "_model_module_version": "1.2.0",
            "_model_name": "LayoutModel",
            "_view_count": null,
            "_view_module": "@jupyter-widgets/base",
            "_view_module_version": "1.2.0",
            "_view_name": "LayoutView",
            "align_content": null,
            "align_items": null,
            "align_self": null,
            "border": null,
            "bottom": null,
            "display": null,
            "flex": null,
            "flex_flow": null,
            "grid_area": null,
            "grid_auto_columns": null,
            "grid_auto_flow": null,
            "grid_auto_rows": null,
            "grid_column": null,
            "grid_gap": null,
            "grid_row": null,
            "grid_template_areas": null,
            "grid_template_columns": null,
            "grid_template_rows": null,
            "height": null,
            "justify_content": null,
            "justify_items": null,
            "left": null,
            "margin": null,
            "max_height": null,
            "max_width": null,
            "min_height": null,
            "min_width": null,
            "object_fit": null,
            "object_position": null,
            "order": null,
            "overflow": null,
            "overflow_x": null,
            "overflow_y": null,
            "padding": null,
            "right": null,
            "top": null,
            "visibility": null,
            "width": null
          }
        },
        "825dd97a3147477cbafd287066506359": {
          "model_module": "@jupyter-widgets/controls",
          "model_name": "ProgressStyleModel",
          "model_module_version": "1.5.0",
          "state": {
            "_model_module": "@jupyter-widgets/controls",
            "_model_module_version": "1.5.0",
            "_model_name": "ProgressStyleModel",
            "_view_count": null,
            "_view_module": "@jupyter-widgets/base",
            "_view_module_version": "1.2.0",
            "_view_name": "StyleView",
            "bar_color": null,
            "description_width": ""
          }
        },
        "43b6f85af3bb4defaf01f641f5c0fdb2": {
          "model_module": "@jupyter-widgets/base",
          "model_name": "LayoutModel",
          "model_module_version": "1.2.0",
          "state": {
            "_model_module": "@jupyter-widgets/base",
            "_model_module_version": "1.2.0",
            "_model_name": "LayoutModel",
            "_view_count": null,
            "_view_module": "@jupyter-widgets/base",
            "_view_module_version": "1.2.0",
            "_view_name": "LayoutView",
            "align_content": null,
            "align_items": null,
            "align_self": null,
            "border": null,
            "bottom": null,
            "display": null,
            "flex": null,
            "flex_flow": null,
            "grid_area": null,
            "grid_auto_columns": null,
            "grid_auto_flow": null,
            "grid_auto_rows": null,
            "grid_column": null,
            "grid_gap": null,
            "grid_row": null,
            "grid_template_areas": null,
            "grid_template_columns": null,
            "grid_template_rows": null,
            "height": null,
            "justify_content": null,
            "justify_items": null,
            "left": null,
            "margin": null,
            "max_height": null,
            "max_width": null,
            "min_height": null,
            "min_width": null,
            "object_fit": null,
            "object_position": null,
            "order": null,
            "overflow": null,
            "overflow_x": null,
            "overflow_y": null,
            "padding": null,
            "right": null,
            "top": null,
            "visibility": null,
            "width": null
          }
        },
        "751ad12ce55e4a7f9e86ba21a24f8537": {
          "model_module": "@jupyter-widgets/controls",
          "model_name": "DescriptionStyleModel",
          "model_module_version": "1.5.0",
          "state": {
            "_model_module": "@jupyter-widgets/controls",
            "_model_module_version": "1.5.0",
            "_model_name": "DescriptionStyleModel",
            "_view_count": null,
            "_view_module": "@jupyter-widgets/base",
            "_view_module_version": "1.2.0",
            "_view_name": "StyleView",
            "description_width": ""
          }
        }
      }
    }
  },
  "cells": [
    {
      "cell_type": "markdown",
      "metadata": {
        "id": "view-in-github",
        "colab_type": "text"
      },
      "source": [
        "<a href=\"https://colab.research.google.com/github/Yeoonsu/PythonPractice/blob/main/Pytorch_CIFAR_10_MLP.ipynb\" target=\"_parent\"><img src=\"https://colab.research.google.com/assets/colab-badge.svg\" alt=\"Open In Colab\"/></a>"
      ]
    },
    {
      "cell_type": "code",
      "execution_count": null,
      "metadata": {
        "id": "jAK2wWrL0YKR"
      },
      "outputs": [],
      "source": [
        "# 1. Module Import\n",
        "import numpy as np\n",
        "import matplotlib.pyplot as plt\n",
        "\n",
        "import torch\n",
        "import torch.nn as nn\n",
        "import torch.nn.functional as F\n",
        "from torchvision import transforms, datasets"
      ]
    },
    {
      "cell_type": "code",
      "source": [
        "# 2. 딥러닝 모델을 설계할 때 활용하는 장비 확인\n",
        "if torch.cuda.is_available():\n",
        "  DEVICE = torch.device('cuda')\n",
        "else:\n",
        "  DEVICE = torch.device('cpu')\n",
        "\n",
        "print('Using PyTorch version:', torch.__version__, ' Device:', DEVICE)"
      ],
      "metadata": {
        "colab": {
          "base_uri": "https://localhost:8080/"
        },
        "id": "U8c1yq360wLl",
        "outputId": "a1815101-8147-4584-e8b8-4c95d5661d2e"
      },
      "execution_count": null,
      "outputs": [
        {
          "output_type": "stream",
          "name": "stdout",
          "text": [
            "Using PyTorch version: 1.11.0+cu113  Device: cpu\n"
          ]
        }
      ]
    },
    {
      "cell_type": "code",
      "source": [
        "BATCH_SIZE = 32\n",
        "EPOCHS = 10"
      ],
      "metadata": {
        "id": "mLGP9kim1Xli"
      },
      "execution_count": null,
      "outputs": []
    },
    {
      "cell_type": "code",
      "source": [
        "# 3. CIFAR10 데이터 다운로드 (Train set, Test set 분리하기)\n",
        "train_dataset = datasets.CIFAR10(root = \"../data/CIFAR_10\",\n",
        "                                 train = True,\n",
        "                                 download = True,\n",
        "                                 transform = transforms.ToTensor())\n",
        "\n",
        "test_dataset = datasets.CIFAR10(root = \"../data/CIFAR_10\",\n",
        "                                train = False,\n",
        "                                transform = transforms.ToTensor())\n",
        "train_loader = torch.utils.data.DataLoader(dataset = train_dataset,\n",
        "                                           batch_size = BATCH_SIZE,\n",
        "                                           shuffle = True)\n",
        "test_loader = torch.utils.data.DataLoader(dataset = test_dataset,\n",
        "                                          batch_size = BATCH_SIZE,\n",
        "                                          shuffle = False)"
      ],
      "metadata": {
        "colab": {
          "base_uri": "https://localhost:8080/",
          "height": 85,
          "referenced_widgets": [
            "68482da44eeb488ab9803887c40a0aea",
            "f5c9ffc2252d490484a7430b5a1da403",
            "e381f9fabffe455e8e3d548cc2582109",
            "8f9f072e878f4900b954f32570957d51",
            "c253b32d6e134ddba6fd251e0ef8a67d",
            "0e97dfa0703e4972a6693daaf359ce87",
            "b9bcb9c4a7e4478189eea4edd3a925cf",
            "c178c9bc04464329b29b69bfb483940a",
            "825dd97a3147477cbafd287066506359",
            "43b6f85af3bb4defaf01f641f5c0fdb2",
            "751ad12ce55e4a7f9e86ba21a24f8537"
          ]
        },
        "id": "uPh9Se5U1aQY",
        "outputId": "419f0f54-6831-4c22-e4f4-379ba0bab74e"
      },
      "execution_count": null,
      "outputs": [
        {
          "output_type": "stream",
          "name": "stdout",
          "text": [
            "Downloading https://www.cs.toronto.edu/~kriz/cifar-10-python.tar.gz to ../data/CIFAR_10/cifar-10-python.tar.gz\n"
          ]
        },
        {
          "output_type": "display_data",
          "data": {
            "text/plain": [
              "  0%|          | 0/170498071 [00:00<?, ?it/s]"
            ],
            "application/vnd.jupyter.widget-view+json": {
              "version_major": 2,
              "version_minor": 0,
              "model_id": "68482da44eeb488ab9803887c40a0aea"
            }
          },
          "metadata": {}
        },
        {
          "output_type": "stream",
          "name": "stdout",
          "text": [
            "Extracting ../data/CIFAR_10/cifar-10-python.tar.gz to ../data/CIFAR_10\n"
          ]
        }
      ]
    },
    {
      "cell_type": "code",
      "source": [
        "# 4. 데이터 확인하기 (1)\n",
        "for (X_train, y_train) in train_loader:\n",
        "  print('X_train:', X_train.size(), 'type:', X_train.type())\n",
        "  print('y_train:', y_train.size(), 'type:', y_train.type())\n",
        "  break"
      ],
      "metadata": {
        "colab": {
          "base_uri": "https://localhost:8080/"
        },
        "id": "eHZRkld78k_N",
        "outputId": "41fe608f-aa60-4b93-dfbb-710b32aea6a1"
      },
      "execution_count": null,
      "outputs": [
        {
          "output_type": "stream",
          "name": "stdout",
          "text": [
            "X_train: torch.Size([32, 3, 32, 32]) type: torch.FloatTensor\n",
            "y_train: torch.Size([32]) type: torch.LongTensor\n"
          ]
        }
      ]
    },
    {
      "cell_type": "code",
      "source": [
        "# 5. 데이터 확인하기 (2)\n",
        "pltsize = 1\n",
        "plt.figure(figsize=(10 * pltsize, pltsize))\n",
        "\n",
        "for i in range(10):\n",
        "  plt.subplot(1, 10, i+1)\n",
        "  plt.axis('off')\n",
        "  plt.imshow(np.transpose(X_train[i],(1,2,0)))\n",
        "  plt.title('Class: ' + str(y_train[i].item()))"
      ],
      "metadata": {
        "colab": {
          "base_uri": "https://localhost:8080/",
          "height": 94
        },
        "id": "-nhn5YBu_iya",
        "outputId": "edde2d69-f780-4785-9aff-a69c84dc073e"
      },
      "execution_count": null,
      "outputs": [
        {
          "output_type": "display_data",
          "data": {
            "text/plain": [
              "<Figure size 720x72 with 10 Axes>"
            ],
            "image/png": "[encoded data removed]"
          },
          "metadata": {
            "needs_background": "light"
          }
        }
      ]
    },
    {
      "cell_type": "code",
      "source": [
        "# 6. Multi Layer Perceptron(MLP) 모델 설계하기\n",
        "class Net(nn.Module):\n",
        "  def __init__(self):\n",
        "    super(Net, self).__init__()\n",
        "    self.fc1 = nn.Linear(32*32*3, 512)\n",
        "    self.fc2 = nn.Linear(512, 256)\n",
        "    self.fc3 = nn.Linear(256, 10)\n",
        "\n",
        "  def forward(self, x):\n",
        "    x = x.view(-1, 32*32*3)\n",
        "    x = self.fc1(x)\n",
        "    x = F.relu(x)\n",
        "    x = self.fc2(x)\n",
        "    x = F.relu(x)\n",
        "    x = self.fc3(x)\n",
        "    x = F.log_softmax(x, dim=1)\n",
        "    return x"
      ],
      "metadata": {
        "id": "FUKfXx4EAJ77"
      },
      "execution_count": null,
      "outputs": []
    },
    {
      "cell_type": "code",
      "source": [
        "# 7. Optimizer, Objective Function 설정하기\n",
        "model = Net().to(DEVICE)\n",
        "optimizer = torch.optim.Adam(model.parameters(), lr=0.001)\n",
        "criterion = nn.CrossEntropyLoss()\n",
        "\n",
        "print(model)"
      ],
      "metadata": {
        "colab": {
          "base_uri": "https://localhost:8080/"
        },
        "id": "sTB_R9irBc4k",
        "outputId": "e78d8b4f-d502-475f-9453-28f06bdf8e95"
      },
      "execution_count": null,
      "outputs": [
        {
          "output_type": "stream",
          "name": "stdout",
          "text": [
            "Net(\n",
            "  (fc1): Linear(in_features=3072, out_features=512, bias=True)\n",
            "  (fc2): Linear(in_features=512, out_features=256, bias=True)\n",
            "  (fc3): Linear(in_features=256, out_features=10, bias=True)\n",
            ")\n"
          ]
        }
      ]
    },
    {
      "cell_type": "code",
      "source": [
        "# 8. MLP 모델 학습을 진행하며 학습 데이터에 대한 모델 성능을 확인하는 함수 정의\n",
        "def train(model, train_loader, optimizer, log_interval):\n",
        "  model.train()\n",
        "  for batch_idx,(image, label) in enumerate(train_loader):\n",
        "    image = image.to(DEVICE)\n",
        "    label = label.to(DEVICE)\n",
        "    optimizer.zero_grad()\n",
        "    output = model(image)\n",
        "    loss = criterion(output, label)\n",
        "    loss.backward()\n",
        "    optimizer.step()\n",
        "\n",
        "    if batch_idx % log_interval == 0:\n",
        "      print(\"Train Epoch: {} [{}/{}({:.0f}%)]\\tTrain Loss: {:.6f}\".format(\n",
        "          Epoch, batch_idx * len(image),\n",
        "          len(train_loader.dataset), 100. * batch_idx / len(train_loader),\n",
        "          loss.item()))"
      ],
      "metadata": {
        "id": "tOc3MkD2BqDV"
      },
      "execution_count": null,
      "outputs": []
    },
    {
      "cell_type": "code",
      "source": [
        "# 9. 학습되는 과정 속에서 검증 데이터에 대한 모델 성능을 확인하는 함수 정의\n",
        "def evaluate(model, test_loader):\n",
        "  model.eval()\n",
        "  test_loss = 0\n",
        "  correct = 0\n",
        "  with torch.no_grad():\n",
        "    for image, label in test_loader:\n",
        "      image = image.to(DEVICE)\n",
        "      label = label.to(DEVICE)\n",
        "      output = model(image)\n",
        "      test_loss += criterion(output, label).item()\n",
        "      prediction = output.max(1, keepdim = True)[1]\n",
        "      correct += prediction.eq(label.view_as(prediction)).sum().item()\n",
        "  test_loss /= len(test_loader.dataset)\n",
        "  test_accuracy = 100. * correct / len(test_loader.dataset)\n",
        "  return test_loss, test_accuracy"
      ],
      "metadata": {
        "id": "QLBelSLPGplX"
      },
      "execution_count": null,
      "outputs": []
    },
    {
      "cell_type": "code",
      "source": [
        "# 10. MLP 학습을 실행하며 Train, Test set의 Loss 및 Test set Accuracy 확인하기\n",
        "for Epoch in range(1, EPOCHS + 1):\n",
        "  train(model, train_loader, optimizer, log_interval = 200)\n",
        "  test_loss, test_accuracy = evaluate(model, test_loader)\n",
        "  print(\"\\n[EPOCH: {}], \\tTest Loss: {:.4f}, \\tTest Accuracy: {:.2f} % \\n\".\n",
        "        format(Epoch, test_loss, test_accuracy))"
      ],
      "metadata": {
        "colab": {
          "base_uri": "https://localhost:8080/"
        },
        "id": "UdW3t3SiHW9y",
        "outputId": "7373411a-67a4-402c-c85b-717ff18436d5"
      },
      "execution_count": null,
      "outputs": [
        {
          "output_type": "stream",
          "name": "stdout",
          "text": [
            "Train Epoch: 1 [0/50000(0%)]\tTrain Loss: 2.286330\n",
            "Train Epoch: 1 [6400/50000(13%)]\tTrain Loss: 1.841616\n",
            "Train Epoch: 1 [12800/50000(26%)]\tTrain Loss: 1.758013\n",
            "Train Epoch: 1 [19200/50000(38%)]\tTrain Loss: 1.674181\n",
            "Train Epoch: 1 [25600/50000(51%)]\tTrain Loss: 2.098807\n",
            "Train Epoch: 1 [32000/50000(64%)]\tTrain Loss: 1.639275\n",
            "Train Epoch: 1 [38400/50000(77%)]\tTrain Loss: 1.532232\n",
            "Train Epoch: 1 [44800/50000(90%)]\tTrain Loss: 1.953189\n",
            "\n",
            "[EPOCH: 1], \tTest Loss: 0.0538, \tTest Accuracy: 38.71 % \n",
            "\n",
            "Train Epoch: 2 [0/50000(0%)]\tTrain Loss: 1.945884\n",
            "Train Epoch: 2 [6400/50000(13%)]\tTrain Loss: 1.446656\n",
            "Train Epoch: 2 [12800/50000(26%)]\tTrain Loss: 1.934542\n",
            "Train Epoch: 2 [19200/50000(38%)]\tTrain Loss: 1.757800\n",
            "Train Epoch: 2 [25600/50000(51%)]\tTrain Loss: 1.846782\n",
            "Train Epoch: 2 [32000/50000(64%)]\tTrain Loss: 1.994694\n",
            "Train Epoch: 2 [38400/50000(77%)]\tTrain Loss: 1.645664\n",
            "Train Epoch: 2 [44800/50000(90%)]\tTrain Loss: 1.660114\n",
            "\n",
            "[EPOCH: 2], \tTest Loss: 0.0504, \tTest Accuracy: 42.21 % \n",
            "\n",
            "Train Epoch: 3 [0/50000(0%)]\tTrain Loss: 1.781347\n",
            "Train Epoch: 3 [6400/50000(13%)]\tTrain Loss: 1.660083\n",
            "Train Epoch: 3 [12800/50000(26%)]\tTrain Loss: 1.811375\n",
            "Train Epoch: 3 [19200/50000(38%)]\tTrain Loss: 1.666351\n",
            "Train Epoch: 3 [25600/50000(51%)]\tTrain Loss: 1.682288\n",
            "Train Epoch: 3 [32000/50000(64%)]\tTrain Loss: 2.132811\n",
            "Train Epoch: 3 [38400/50000(77%)]\tTrain Loss: 1.395210\n",
            "Train Epoch: 3 [44800/50000(90%)]\tTrain Loss: 1.760337\n",
            "\n",
            "[EPOCH: 3], \tTest Loss: 0.0490, \tTest Accuracy: 44.45 % \n",
            "\n",
            "Train Epoch: 4 [0/50000(0%)]\tTrain Loss: 1.637582\n",
            "Train Epoch: 4 [6400/50000(13%)]\tTrain Loss: 1.554718\n",
            "Train Epoch: 4 [12800/50000(26%)]\tTrain Loss: 1.399753\n",
            "Train Epoch: 4 [19200/50000(38%)]\tTrain Loss: 1.392333\n",
            "Train Epoch: 4 [25600/50000(51%)]\tTrain Loss: 1.374339\n",
            "Train Epoch: 4 [32000/50000(64%)]\tTrain Loss: 1.619228\n",
            "Train Epoch: 4 [38400/50000(77%)]\tTrain Loss: 1.634842\n",
            "Train Epoch: 4 [44800/50000(90%)]\tTrain Loss: 1.660957\n",
            "\n",
            "[EPOCH: 4], \tTest Loss: 0.0479, \tTest Accuracy: 45.47 % \n",
            "\n",
            "Train Epoch: 5 [0/50000(0%)]\tTrain Loss: 1.275424\n",
            "Train Epoch: 5 [6400/50000(13%)]\tTrain Loss: 1.408212\n",
            "Train Epoch: 5 [12800/50000(26%)]\tTrain Loss: 1.370891\n",
            "Train Epoch: 5 [19200/50000(38%)]\tTrain Loss: 1.411083\n",
            "Train Epoch: 5 [25600/50000(51%)]\tTrain Loss: 1.619745\n",
            "Train Epoch: 5 [32000/50000(64%)]\tTrain Loss: 1.723750\n",
            "Train Epoch: 5 [38400/50000(77%)]\tTrain Loss: 1.387397\n",
            "Train Epoch: 5 [44800/50000(90%)]\tTrain Loss: 1.413675\n",
            "\n",
            "[EPOCH: 5], \tTest Loss: 0.0470, \tTest Accuracy: 46.04 % \n",
            "\n",
            "Train Epoch: 6 [0/50000(0%)]\tTrain Loss: 1.171581\n",
            "Train Epoch: 6 [6400/50000(13%)]\tTrain Loss: 1.885301\n",
            "Train Epoch: 6 [12800/50000(26%)]\tTrain Loss: 1.128358\n",
            "Train Epoch: 6 [19200/50000(38%)]\tTrain Loss: 1.557656\n",
            "Train Epoch: 6 [25600/50000(51%)]\tTrain Loss: 1.533507\n",
            "Train Epoch: 6 [32000/50000(64%)]\tTrain Loss: 1.481990\n",
            "Train Epoch: 6 [38400/50000(77%)]\tTrain Loss: 1.350450\n",
            "Train Epoch: 6 [44800/50000(90%)]\tTrain Loss: 1.279216\n",
            "\n",
            "[EPOCH: 6], \tTest Loss: 0.0490, \tTest Accuracy: 43.60 % \n",
            "\n",
            "Train Epoch: 7 [0/50000(0%)]\tTrain Loss: 1.500269\n",
            "Train Epoch: 7 [6400/50000(13%)]\tTrain Loss: 1.426130\n",
            "Train Epoch: 7 [12800/50000(26%)]\tTrain Loss: 1.445169\n",
            "Train Epoch: 7 [19200/50000(38%)]\tTrain Loss: 1.502920\n",
            "Train Epoch: 7 [25600/50000(51%)]\tTrain Loss: 1.655559\n",
            "Train Epoch: 7 [32000/50000(64%)]\tTrain Loss: 1.330405\n",
            "Train Epoch: 7 [38400/50000(77%)]\tTrain Loss: 1.166222\n",
            "Train Epoch: 7 [44800/50000(90%)]\tTrain Loss: 1.437968\n",
            "\n",
            "[EPOCH: 7], \tTest Loss: 0.0460, \tTest Accuracy: 47.95 % \n",
            "\n",
            "Train Epoch: 8 [0/50000(0%)]\tTrain Loss: 1.557830\n",
            "Train Epoch: 8 [6400/50000(13%)]\tTrain Loss: 1.252251\n",
            "Train Epoch: 8 [12800/50000(26%)]\tTrain Loss: 1.630201\n",
            "Train Epoch: 8 [19200/50000(38%)]\tTrain Loss: 1.587354\n",
            "Train Epoch: 8 [25600/50000(51%)]\tTrain Loss: 1.666928\n",
            "Train Epoch: 8 [32000/50000(64%)]\tTrain Loss: 1.430797\n",
            "Train Epoch: 8 [38400/50000(77%)]\tTrain Loss: 1.587726\n",
            "Train Epoch: 8 [44800/50000(90%)]\tTrain Loss: 1.356018\n",
            "\n",
            "[EPOCH: 8], \tTest Loss: 0.0463, \tTest Accuracy: 47.83 % \n",
            "\n",
            "Train Epoch: 9 [0/50000(0%)]\tTrain Loss: 1.346072\n",
            "Train Epoch: 9 [6400/50000(13%)]\tTrain Loss: 1.209590\n",
            "Train Epoch: 9 [12800/50000(26%)]\tTrain Loss: 1.427148\n",
            "Train Epoch: 9 [19200/50000(38%)]\tTrain Loss: 1.301964\n",
            "Train Epoch: 9 [25600/50000(51%)]\tTrain Loss: 1.289560\n",
            "Train Epoch: 9 [32000/50000(64%)]\tTrain Loss: 1.343427\n",
            "Train Epoch: 9 [38400/50000(77%)]\tTrain Loss: 1.300578\n",
            "Train Epoch: 9 [44800/50000(90%)]\tTrain Loss: 1.372402\n",
            "\n",
            "[EPOCH: 9], \tTest Loss: 0.0461, \tTest Accuracy: 48.03 % \n",
            "\n",
            "Train Epoch: 10 [0/50000(0%)]\tTrain Loss: 1.142599\n",
            "Train Epoch: 10 [6400/50000(13%)]\tTrain Loss: 1.558082\n",
            "Train Epoch: 10 [12800/50000(26%)]\tTrain Loss: 1.295431\n",
            "Train Epoch: 10 [19200/50000(38%)]\tTrain Loss: 1.556287\n",
            "Train Epoch: 10 [25600/50000(51%)]\tTrain Loss: 1.357854\n",
            "Train Epoch: 10 [32000/50000(64%)]\tTrain Loss: 1.092635\n",
            "Train Epoch: 10 [38400/50000(77%)]\tTrain Loss: 1.276414\n",
            "Train Epoch: 10 [44800/50000(90%)]\tTrain Loss: 0.938358\n",
            "\n",
            "[EPOCH: 10], \tTest Loss: 0.0464, \tTest Accuracy: 46.87 % \n",
            "\n"
          ]
        }
      ]
    },
    {
      "cell_type": "markdown",
      "source": [
        "CIFAR-3은 컬러 이미지라서 MLP로 1차원으로 펼치면 성능이 저하됨"
      ],
      "metadata": {
        "id": "-5TnP54t888d"
      }
    },
    {
      "cell_type": "code",
      "source": [
        ""
      ],
      "metadata": {
        "id": "EqWKwl8YSeDa"
      },
      "execution_count": null,
      "outputs": []
    }
  ]
}