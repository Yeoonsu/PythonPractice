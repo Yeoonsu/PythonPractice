{
  "nbformat": 4,
  "nbformat_minor": 0,
  "metadata": {
    "colab": {
      "name": "Pytorch CIFAR-10 MLP.ipynb의 사본 (CNN)",
      "provenance": [],
      "authorship_tag": "ABX9TyOqwZC8X4/rWWoMKKvM3Us+",
      "include_colab_link": true
    },
    "kernelspec": {
      "name": "python3",
      "display_name": "Python 3"
    },
    "language_info": {
      "name": "python"
    },
    "widgets": {
      "application/vnd.jupyter.widget-state+json": {
        "39adfb7bb57842918adc43924594e781": {
          "model_module": "@jupyter-widgets/controls",
          "model_name": "HBoxModel",
          "model_module_version": "1.5.0",
          "state": {
            "_dom_classes": [],
            "_model_module": "@jupyter-widgets/controls",
            "_model_module_version": "1.5.0",
            "_model_name": "HBoxModel",
            "_view_count": null,
            "_view_module": "@jupyter-widgets/controls",
            "_view_module_version": "1.5.0",
            "_view_name": "HBoxView",
            "box_style": "",
            "children": [
              "IPY_MODEL_0b4f60ea388940a2bba8d1ddb423fc09",
              "IPY_MODEL_44a3caed3b574dc59a3f0e8213120b76",
              "IPY_MODEL_539afa56a46d43f1be0a7ef317e63d53"
            ],
            "layout": "IPY_MODEL_bb3bbdcd8c5042d4ba8f59b577b5a9bf"
          }
        },
        "0b4f60ea388940a2bba8d1ddb423fc09": {
          "model_module": "@jupyter-widgets/controls",
          "model_name": "HTMLModel",
          "model_module_version": "1.5.0",
          "state": {
            "_dom_classes": [],
            "_model_module": "@jupyter-widgets/controls",
            "_model_module_version": "1.5.0",
            "_model_name": "HTMLModel",
            "_view_count": null,
            "_view_module": "@jupyter-widgets/controls",
            "_view_module_version": "1.5.0",
            "_view_name": "HTMLView",
            "description": "",
            "description_tooltip": null,
            "layout": "IPY_MODEL_540f20b70b7c4f59a096081f81a5c943",
            "placeholder": "​",
            "style": "IPY_MODEL_131e56866c8f49b5a9863188c8efe17b",
            "value": ""
          }
        },
        "44a3caed3b574dc59a3f0e8213120b76": {
          "model_module": "@jupyter-widgets/controls",
          "model_name": "FloatProgressModel",
          "model_module_version": "1.5.0",
          "state": {
            "_dom_classes": [],
            "_model_module": "@jupyter-widgets/controls",
            "_model_module_version": "1.5.0",
            "_model_name": "FloatProgressModel",
            "_view_count": null,
            "_view_module": "@jupyter-widgets/controls",
            "_view_module_version": "1.5.0",
            "_view_name": "ProgressView",
            "bar_style": "success",
            "description": "",
            "description_tooltip": null,
            "layout": "IPY_MODEL_502dc503d6d34a029d9265e370187fb9",
            "max": 170498071,
            "min": 0,
            "orientation": "horizontal",
            "style": "IPY_MODEL_52dbbe23dab948a0a1390a99ba79b436",
            "value": 170498071
          }
        },
        "539afa56a46d43f1be0a7ef317e63d53": {
          "model_module": "@jupyter-widgets/controls",
          "model_name": "HTMLModel",
          "model_module_version": "1.5.0",
          "state": {
            "_dom_classes": [],
            "_model_module": "@jupyter-widgets/controls",
            "_model_module_version": "1.5.0",
            "_model_name": "HTMLModel",
            "_view_count": null,
            "_view_module": "@jupyter-widgets/controls",
            "_view_module_version": "1.5.0",
            "_view_name": "HTMLView",
            "description": "",
            "description_tooltip": null,
            "layout": "IPY_MODEL_45ca5e6e834b4cfe8df9b83bbe99c90f",
            "placeholder": "​",
            "style": "IPY_MODEL_2ac4457da4c04dbf9a8362c5fd261a3c",
            "value": " 170499072/? [00:14&lt;00:00, 8245751.03it/s]"
          }
        },
        "bb3bbdcd8c5042d4ba8f59b577b5a9bf": {
          "model_module": "@jupyter-widgets/base",
          "model_name": "LayoutModel",
          "model_module_version": "1.2.0",
          "state": {
            "_model_module": "@jupyter-widgets/base",
            "_model_module_version": "1.2.0",
            "_model_name": "LayoutModel",
            "_view_count": null,
            "_view_module": "@jupyter-widgets/base",
            "_view_module_version": "1.2.0",
            "_view_name": "LayoutView",
            "align_content": null,
            "align_items": null,
            "align_self": null,
            "border": null,
            "bottom": null,
            "display": null,
            "flex": null,
            "flex_flow": null,
            "grid_area": null,
            "grid_auto_columns": null,
            "grid_auto_flow": null,
            "grid_auto_rows": null,
            "grid_column": null,
            "grid_gap": null,
            "grid_row": null,
            "grid_template_areas": null,
            "grid_template_columns": null,
            "grid_template_rows": null,
            "height": null,
            "justify_content": null,
            "justify_items": null,
            "left": null,
            "margin": null,
            "max_height": null,
            "max_width": null,
            "min_height": null,
            "min_width": null,
            "object_fit": null,
            "object_position": null,
            "order": null,
            "overflow": null,
            "overflow_x": null,
            "overflow_y": null,
            "padding": null,
            "right": null,
            "top": null,
            "visibility": null,
            "width": null
          }
        },
        "540f20b70b7c4f59a096081f81a5c943": {
          "model_module": "@jupyter-widgets/base",
          "model_name": "LayoutModel",
          "model_module_version": "1.2.0",
          "state": {
            "_model_module": "@jupyter-widgets/base",
            "_model_module_version": "1.2.0",
            "_model_name": "LayoutModel",
            "_view_count": null,
            "_view_module": "@jupyter-widgets/base",
            "_view_module_version": "1.2.0",
            "_view_name": "LayoutView",
            "align_content": null,
            "align_items": null,
            "align_self": null,
            "border": null,
            "bottom": null,
            "display": null,
            "flex": null,
            "flex_flow": null,
            "grid_area": null,
            "grid_auto_columns": null,
            "grid_auto_flow": null,
            "grid_auto_rows": null,
            "grid_column": null,
            "grid_gap": null,
            "grid_row": null,
            "grid_template_areas": null,
            "grid_template_columns": null,
            "grid_template_rows": null,
            "height": null,
            "justify_content": null,
            "justify_items": null,
            "left": null,
            "margin": null,
            "max_height": null,
            "max_width": null,
            "min_height": null,
            "min_width": null,
            "object_fit": null,
            "object_position": null,
            "order": null,
            "overflow": null,
            "overflow_x": null,
            "overflow_y": null,
            "padding": null,
            "right": null,
            "top": null,
            "visibility": null,
            "width": null
          }
        },
        "131e56866c8f49b5a9863188c8efe17b": {
          "model_module": "@jupyter-widgets/controls",
          "model_name": "DescriptionStyleModel",
          "model_module_version": "1.5.0",
          "state": {
            "_model_module": "@jupyter-widgets/controls",
            "_model_module_version": "1.5.0",
            "_model_name": "DescriptionStyleModel",
            "_view_count": null,
            "_view_module": "@jupyter-widgets/base",
            "_view_module_version": "1.2.0",
            "_view_name": "StyleView",
            "description_width": ""
          }
        },
        "502dc503d6d34a029d9265e370187fb9": {
          "model_module": "@jupyter-widgets/base",
          "model_name": "LayoutModel",
          "model_module_version": "1.2.0",
          "state": {
            "_model_module": "@jupyter-widgets/base",
            "_model_module_version": "1.2.0",
            "_model_name": "LayoutModel",
            "_view_count": null,
            "_view_module": "@jupyter-widgets/base",
            "_view_module_version": "1.2.0",
            "_view_name": "LayoutView",
            "align_content": null,
            "align_items": null,
            "align_self": null,
            "border": null,
            "bottom": null,
            "display": null,
            "flex": null,
            "flex_flow": null,
            "grid_area": null,
            "grid_auto_columns": null,
            "grid_auto_flow": null,
            "grid_auto_rows": null,
            "grid_column": null,
            "grid_gap": null,
            "grid_row": null,
            "grid_template_areas": null,
            "grid_template_columns": null,
            "grid_template_rows": null,
            "height": null,
            "justify_content": null,
            "justify_items": null,
            "left": null,
            "margin": null,
            "max_height": null,
            "max_width": null,
            "min_height": null,
            "min_width": null,
            "object_fit": null,
            "object_position": null,
            "order": null,
            "overflow": null,
            "overflow_x": null,
            "overflow_y": null,
            "padding": null,
            "right": null,
            "top": null,
            "visibility": null,
            "width": null
          }
        },
        "52dbbe23dab948a0a1390a99ba79b436": {
          "model_module": "@jupyter-widgets/controls",
          "model_name": "ProgressStyleModel",
          "model_module_version": "1.5.0",
          "state": {
            "_model_module": "@jupyter-widgets/controls",
            "_model_module_version": "1.5.0",
            "_model_name": "ProgressStyleModel",
            "_view_count": null,
            "_view_module": "@jupyter-widgets/base",
            "_view_module_version": "1.2.0",
            "_view_name": "StyleView",
            "bar_color": null,
            "description_width": ""
          }
        },
        "45ca5e6e834b4cfe8df9b83bbe99c90f": {
          "model_module": "@jupyter-widgets/base",
          "model_name": "LayoutModel",
          "model_module_version": "1.2.0",
          "state": {
            "_model_module": "@jupyter-widgets/base",
            "_model_module_version": "1.2.0",
            "_model_name": "LayoutModel",
            "_view_count": null,
            "_view_module": "@jupyter-widgets/base",
            "_view_module_version": "1.2.0",
            "_view_name": "LayoutView",
            "align_content": null,
            "align_items": null,
            "align_self": null,
            "border": null,
            "bottom": null,
            "display": null,
            "flex": null,
            "flex_flow": null,
            "grid_area": null,
            "grid_auto_columns": null,
            "grid_auto_flow": null,
            "grid_auto_rows": null,
            "grid_column": null,
            "grid_gap": null,
            "grid_row": null,
            "grid_template_areas": null,
            "grid_template_columns": null,
            "grid_template_rows": null,
            "height": null,
            "justify_content": null,
            "justify_items": null,
            "left": null,
            "margin": null,
            "max_height": null,
            "max_width": null,
            "min_height": null,
            "min_width": null,
            "object_fit": null,
            "object_position": null,
            "order": null,
            "overflow": null,
            "overflow_x": null,
            "overflow_y": null,
            "padding": null,
            "right": null,
            "top": null,
            "visibility": null,
            "width": null
          }
        },
        "2ac4457da4c04dbf9a8362c5fd261a3c": {
          "model_module": "@jupyter-widgets/controls",
          "model_name": "DescriptionStyleModel",
          "model_module_version": "1.5.0",
          "state": {
            "_model_module": "@jupyter-widgets/controls",
            "_model_module_version": "1.5.0",
            "_model_name": "DescriptionStyleModel",
            "_view_count": null,
            "_view_module": "@jupyter-widgets/base",
            "_view_module_version": "1.2.0",
            "_view_name": "StyleView",
            "description_width": ""
          }
        }
      }
    }
  },
  "cells": [
    {
      "cell_type": "markdown",
      "metadata": {
        "id": "view-in-github",
        "colab_type": "text"
      },
      "source": [
        "<a href=\"https://colab.research.google.com/github/Yeoonsu/PythonPractice/blob/main/Pytorch_CIFAR_10_MLP_ipynb%EC%9D%98_%EC%82%AC%EB%B3%B8_(CNN).ipynb\" target=\"_parent\"><img src=\"https://colab.research.google.com/assets/colab-badge.svg\" alt=\"Open In Colab\"/></a>"
      ]
    },
    {
      "cell_type": "code",
      "execution_count": 1,
      "metadata": {
        "id": "jAK2wWrL0YKR"
      },
      "outputs": [],
      "source": [
        "# 1. Module Import\n",
        "import numpy as np\n",
        "import matplotlib.pyplot as plt\n",
        "\n",
        "import torch\n",
        "import torch.nn as nn\n",
        "import torch.nn.functional as F\n",
        "from torchvision import transforms, datasets"
      ]
    },
    {
      "cell_type": "code",
      "source": [
        "# 2. 딥러닝 모델을 설계할 때 활용하는 장비 확인\n",
        "if torch.cuda.is_available():\n",
        "  DEVICE = torch.device('cuda')\n",
        "else:\n",
        "  DEVICE = torch.device('cpu')\n",
        "\n",
        "print('Using PyTorch version:', torch.__version__, ' Device:', DEVICE)"
      ],
      "metadata": {
        "colab": {
          "base_uri": "https://localhost:8080/"
        },
        "id": "U8c1yq360wLl",
        "outputId": "767c386d-5bc5-43ee-a8b2-16d84162148f"
      },
      "execution_count": 2,
      "outputs": [
        {
          "output_type": "stream",
          "name": "stdout",
          "text": [
            "Using PyTorch version: 1.11.0+cu113  Device: cpu\n"
          ]
        }
      ]
    },
    {
      "cell_type": "code",
      "source": [
        "BATCH_SIZE = 32\n",
        "EPOCHS = 10"
      ],
      "metadata": {
        "id": "mLGP9kim1Xli"
      },
      "execution_count": 3,
      "outputs": []
    },
    {
      "cell_type": "code",
      "source": [
        "# 3. CIFAR10 데이터 다운로드 (Train set, Test set 분리하기)\n",
        "train_dataset = datasets.CIFAR10(root = \"../data/CIFAR_10\",\n",
        "                                 train = True,\n",
        "                                 download = True,\n",
        "                                 transform = transforms.ToTensor())\n",
        "\n",
        "test_dataset = datasets.CIFAR10(root = \"../data/CIFAR_10\",\n",
        "                                train = False,\n",
        "                                transform = transforms.ToTensor())\n",
        "train_loader = torch.utils.data.DataLoader(dataset = train_dataset,\n",
        "                                           batch_size = BATCH_SIZE,\n",
        "                                           shuffle = True)\n",
        "test_loader = torch.utils.data.DataLoader(dataset = test_dataset,\n",
        "                                          batch_size = BATCH_SIZE,\n",
        "                                          shuffle = False)"
      ],
      "metadata": {
        "colab": {
          "base_uri": "https://localhost:8080/",
          "height": 85,
          "referenced_widgets": [
            "39adfb7bb57842918adc43924594e781",
            "0b4f60ea388940a2bba8d1ddb423fc09",
            "44a3caed3b574dc59a3f0e8213120b76",
            "539afa56a46d43f1be0a7ef317e63d53",
            "bb3bbdcd8c5042d4ba8f59b577b5a9bf",
            "540f20b70b7c4f59a096081f81a5c943",
            "131e56866c8f49b5a9863188c8efe17b",
            "502dc503d6d34a029d9265e370187fb9",
            "52dbbe23dab948a0a1390a99ba79b436",
            "45ca5e6e834b4cfe8df9b83bbe99c90f",
            "2ac4457da4c04dbf9a8362c5fd261a3c"
          ]
        },
        "id": "uPh9Se5U1aQY",
        "outputId": "eb1daa89-af3f-485a-e54e-f58c0a3b38e8"
      },
      "execution_count": 4,
      "outputs": [
        {
          "output_type": "stream",
          "name": "stdout",
          "text": [
            "Downloading https://www.cs.toronto.edu/~kriz/cifar-10-python.tar.gz to ../data/CIFAR_10/cifar-10-python.tar.gz\n"
          ]
        },
        {
          "output_type": "display_data",
          "data": {
            "text/plain": [
              "  0%|          | 0/170498071 [00:00<?, ?it/s]"
            ],
            "application/vnd.jupyter.widget-view+json": {
              "version_major": 2,
              "version_minor": 0,
              "model_id": "39adfb7bb57842918adc43924594e781"
            }
          },
          "metadata": {}
        },
        {
          "output_type": "stream",
          "name": "stdout",
          "text": [
            "Extracting ../data/CIFAR_10/cifar-10-python.tar.gz to ../data/CIFAR_10\n"
          ]
        }
      ]
    },
    {
      "cell_type": "code",
      "source": [
        "# 4. 데이터 확인하기 (1)\n",
        "for (X_train, y_train) in train_loader:\n",
        "  print('X_train:', X_train.size(), 'type:', X_train.type())\n",
        "  print('y_train:', y_train.size(), 'type:', y_train.type())\n",
        "  break"
      ],
      "metadata": {
        "colab": {
          "base_uri": "https://localhost:8080/"
        },
        "id": "eHZRkld78k_N",
        "outputId": "13ecf044-e4db-447b-f622-3ace668cbcf1"
      },
      "execution_count": 5,
      "outputs": [
        {
          "output_type": "stream",
          "name": "stdout",
          "text": [
            "X_train: torch.Size([32, 3, 32, 32]) type: torch.FloatTensor\n",
            "y_train: torch.Size([32]) type: torch.LongTensor\n"
          ]
        }
      ]
    },
    {
      "cell_type": "code",
      "source": [
        "# 5. 데이터 확인하기 (2)\n",
        "pltsize = 1\n",
        "plt.figure(figsize=(10 * pltsize, pltsize))\n",
        "\n",
        "for i in range(10):\n",
        "  plt.subplot(1, 10, i+1)\n",
        "  plt.axis('off')\n",
        "  plt.imshow(np.transpose(X_train[i],(1,2,0)))\n",
        "  plt.title('Class: ' + str(y_train[i].item()))"
      ],
      "metadata": {
        "colab": {
          "base_uri": "https://localhost:8080/",
          "height": 94
        },
        "id": "-nhn5YBu_iya",
        "outputId": "58218d2f-cb97-4c36-b0d2-8432b25421a8"
      },
      "execution_count": 6,
      "outputs": [
        {
          "output_type": "display_data",
          "data": {
            "text/plain": [
              "<Figure size 720x72 with 10 Axes>"
            ],
            "image/png": "[encoded data removed]"
          },
          "metadata": {
            "needs_background": "light"
          }
        }
      ]
    },
    {
      "cell_type": "code",
      "source": [
        "# 6. Convolutional Neural Network(CNN) 모델 설계하기\n",
        "class CNN(nn.Module):\n",
        "  def __init__(self):\n",
        "    super(CNN, self).__init__()\n",
        "    self.conv1 = nn.Conv2d(\n",
        "        in_channels = 3,\n",
        "        out_channels = 8,\n",
        "        kernel_size = 3,\n",
        "        padding = 1)\n",
        "    self.conv2 = nn.Conv2d(\n",
        "        in_channels = 8,\n",
        "        out_channels = 16,\n",
        "        kernel_size = 3,\n",
        "        padding = 1)\n",
        "    self.pool = nn.MaxPool2d(\n",
        "        kernel_size = 2,\n",
        "        stride = 2)\n",
        "    self.fc1 = nn.Linear(8 * 8 * 16, 64)\n",
        "    self.fc2 = nn.Linear(64, 32)\n",
        "    self.fc3 = nn.Linear(32, 10)\n",
        "  def forward(self, x):\n",
        "    x = self.conv1(x)\n",
        "    x = F.relu(x)\n",
        "    x = self.pool(x)\n",
        "    x = self.conv2(x)\n",
        "    x = F.relu(x)\n",
        "    x = self.pool(x)\n",
        "\n",
        "    x = x.view(-1, 8*8*16)\n",
        "    x = self.fc1(x)\n",
        "    x = F.relu(x)\n",
        "    x = self.fc2(x)\n",
        "    x = F.relu(x)\n",
        "    x = self.fc3(x)\n",
        "    x = F.log_softmax(x)\n",
        "    return x"
      ],
      "metadata": {
        "id": "FUKfXx4EAJ77"
      },
      "execution_count": 7,
      "outputs": []
    },
    {
      "cell_type": "code",
      "source": [
        "# 7. Optimizer, Objective Function 설정하기\n",
        "model = CNN().to(DEVICE)\n",
        "optimizer = torch.optim.Adam(model.parameters(), lr=0.001)\n",
        "criterion = nn.CrossEntropyLoss()\n",
        "\n",
        "print(model)"
      ],
      "metadata": {
        "colab": {
          "base_uri": "https://localhost:8080/"
        },
        "id": "sTB_R9irBc4k",
        "outputId": "83530089-8356-4509-d5c3-cf589a3efeef"
      },
      "execution_count": 12,
      "outputs": [
        {
          "output_type": "stream",
          "name": "stdout",
          "text": [
            "CNN(\n",
            "  (conv1): Conv2d(3, 8, kernel_size=(3, 3), stride=(1, 1), padding=(1, 1))\n",
            "  (conv2): Conv2d(8, 16, kernel_size=(3, 3), stride=(1, 1), padding=(1, 1))\n",
            "  (pool): MaxPool2d(kernel_size=2, stride=2, padding=0, dilation=1, ceil_mode=False)\n",
            "  (fc1): Linear(in_features=1024, out_features=64, bias=True)\n",
            "  (fc2): Linear(in_features=64, out_features=32, bias=True)\n",
            "  (fc3): Linear(in_features=32, out_features=10, bias=True)\n",
            ")\n"
          ]
        }
      ]
    },
    {
      "cell_type": "code",
      "source": [
        "# 8. MLP 모델 학습을 진행하며 학습 데이터에 대한 모델 성능을 확인하는 함수 정의\n",
        "def train(model, train_loader, optimizer, log_interval):\n",
        "  model.train()\n",
        "  for batch_idx,(image, label) in enumerate(train_loader):\n",
        "    image = image.to(DEVICE)\n",
        "    label = label.to(DEVICE)\n",
        "    optimizer.zero_grad()\n",
        "    output = model(image)\n",
        "    loss = criterion(output, label)\n",
        "    loss.backward()\n",
        "    optimizer.step()\n",
        "\n",
        "    if batch_idx % log_interval == 0:\n",
        "      print(\"Train Epoch: {} [{}/{}({:.0f}%)]\\tTrain Loss: {:.6f}\".format(\n",
        "          Epoch, batch_idx * len(image),\n",
        "          len(train_loader.dataset), 100. * batch_idx / len(train_loader),\n",
        "          loss.item()))"
      ],
      "metadata": {
        "id": "tOc3MkD2BqDV"
      },
      "execution_count": 13,
      "outputs": []
    },
    {
      "cell_type": "code",
      "source": [
        "# 9. 학습되는 과정 속에서 검증 데이터에 대한 모델 성능을 확인하는 함수 정의\n",
        "def evaluate(model, test_loader):\n",
        "  model.eval()\n",
        "  test_loss = 0\n",
        "  correct = 0\n",
        "  with torch.no_grad():\n",
        "    for image, label in test_loader:\n",
        "      image = image.to(DEVICE)\n",
        "      label = label.to(DEVICE)\n",
        "      output = model(image)\n",
        "      test_loss += criterion(output, label).item()\n",
        "      prediction = output.max(1, keepdim = True)[1]\n",
        "      correct += prediction.eq(label.view_as(prediction)).sum().item()\n",
        "  test_loss /= len(test_loader.dataset)\n",
        "  test_accuracy = 100. * correct / len(test_loader.dataset)\n",
        "  return test_loss, test_accuracy"
      ],
      "metadata": {
        "id": "QLBelSLPGplX"
      },
      "execution_count": 10,
      "outputs": []
    },
    {
      "cell_type": "code",
      "source": [
        "# 10. MLP 학습을 실행하며 Train, Test set의 Loss 및 Test set Accuracy 확인하기\n",
        "for Epoch in range(1, EPOCHS + 1):\n",
        "  train(model, train_loader, optimizer, log_interval = 200)\n",
        "  test_loss, test_accuracy = evaluate(model, test_loader)\n",
        "  print(\"\\n[EPOCH: {}], \\tTest Loss: {:.4f}, \\tTest Accuracy: {:.2f} % \\n\".\n",
        "        format(Epoch, test_loss, test_accuracy))"
      ],
      "metadata": {
        "colab": {
          "base_uri": "https://localhost:8080/"
        },
        "id": "UdW3t3SiHW9y",
        "outputId": "d3d6681f-519c-4ced-92fd-801920731321"
      },
      "execution_count": 14,
      "outputs": [
        {
          "output_type": "stream",
          "name": "stderr",
          "text": [
            "/usr/local/lib/python3.7/dist-packages/ipykernel_launcher.py:35: UserWarning: Implicit dimension choice for log_softmax has been deprecated. Change the call to include dim=X as an argument.\n"
          ]
        },
        {
          "output_type": "stream",
          "name": "stdout",
          "text": [
            "Train Epoch: 1 [0/50000(0%)]\tTrain Loss: 2.325009\n",
            "Train Epoch: 1 [6400/50000(13%)]\tTrain Loss: 2.041188\n",
            "Train Epoch: 1 [12800/50000(26%)]\tTrain Loss: 1.593670\n",
            "Train Epoch: 1 [19200/50000(38%)]\tTrain Loss: 1.451416\n",
            "Train Epoch: 1 [25600/50000(51%)]\tTrain Loss: 1.792617\n",
            "Train Epoch: 1 [32000/50000(64%)]\tTrain Loss: 1.520122\n",
            "Train Epoch: 1 [38400/50000(77%)]\tTrain Loss: 1.177699\n",
            "Train Epoch: 1 [44800/50000(90%)]\tTrain Loss: 1.418793\n",
            "\n",
            "[EPOCH: 1], \tTest Loss: 0.0459, \tTest Accuracy: 47.16 % \n",
            "\n",
            "Train Epoch: 2 [0/50000(0%)]\tTrain Loss: 1.698194\n",
            "Train Epoch: 2 [6400/50000(13%)]\tTrain Loss: 1.295221\n",
            "Train Epoch: 2 [12800/50000(26%)]\tTrain Loss: 1.572149\n",
            "Train Epoch: 2 [19200/50000(38%)]\tTrain Loss: 1.469941\n",
            "Train Epoch: 2 [25600/50000(51%)]\tTrain Loss: 1.551872\n",
            "Train Epoch: 2 [32000/50000(64%)]\tTrain Loss: 1.523175\n",
            "Train Epoch: 2 [38400/50000(77%)]\tTrain Loss: 1.078992\n",
            "Train Epoch: 2 [44800/50000(90%)]\tTrain Loss: 1.457068\n",
            "\n",
            "[EPOCH: 2], \tTest Loss: 0.0441, \tTest Accuracy: 49.45 % \n",
            "\n",
            "Train Epoch: 3 [0/50000(0%)]\tTrain Loss: 1.343199\n",
            "Train Epoch: 3 [6400/50000(13%)]\tTrain Loss: 1.286421\n",
            "Train Epoch: 3 [12800/50000(26%)]\tTrain Loss: 1.315709\n",
            "Train Epoch: 3 [19200/50000(38%)]\tTrain Loss: 1.543936\n",
            "Train Epoch: 3 [25600/50000(51%)]\tTrain Loss: 1.098393\n",
            "Train Epoch: 3 [32000/50000(64%)]\tTrain Loss: 1.277574\n",
            "Train Epoch: 3 [38400/50000(77%)]\tTrain Loss: 1.053728\n",
            "Train Epoch: 3 [44800/50000(90%)]\tTrain Loss: 1.089734\n",
            "\n",
            "[EPOCH: 3], \tTest Loss: 0.0390, \tTest Accuracy: 55.74 % \n",
            "\n",
            "Train Epoch: 4 [0/50000(0%)]\tTrain Loss: 1.295460\n",
            "Train Epoch: 4 [6400/50000(13%)]\tTrain Loss: 1.090433\n",
            "Train Epoch: 4 [12800/50000(26%)]\tTrain Loss: 1.123900\n",
            "Train Epoch: 4 [19200/50000(38%)]\tTrain Loss: 0.905429\n",
            "Train Epoch: 4 [25600/50000(51%)]\tTrain Loss: 1.292966\n",
            "Train Epoch: 4 [32000/50000(64%)]\tTrain Loss: 1.067261\n",
            "Train Epoch: 4 [38400/50000(77%)]\tTrain Loss: 0.823913\n",
            "Train Epoch: 4 [44800/50000(90%)]\tTrain Loss: 1.222490\n",
            "\n",
            "[EPOCH: 4], \tTest Loss: 0.0354, \tTest Accuracy: 59.72 % \n",
            "\n",
            "Train Epoch: 5 [0/50000(0%)]\tTrain Loss: 1.317931\n",
            "Train Epoch: 5 [6400/50000(13%)]\tTrain Loss: 1.261415\n",
            "Train Epoch: 5 [12800/50000(26%)]\tTrain Loss: 1.020881\n",
            "Train Epoch: 5 [19200/50000(38%)]\tTrain Loss: 1.060033\n",
            "Train Epoch: 5 [25600/50000(51%)]\tTrain Loss: 1.024334\n",
            "Train Epoch: 5 [32000/50000(64%)]\tTrain Loss: 1.012571\n",
            "Train Epoch: 5 [38400/50000(77%)]\tTrain Loss: 0.878094\n",
            "Train Epoch: 5 [44800/50000(90%)]\tTrain Loss: 1.121319\n",
            "\n",
            "[EPOCH: 5], \tTest Loss: 0.0354, \tTest Accuracy: 60.69 % \n",
            "\n",
            "Train Epoch: 6 [0/50000(0%)]\tTrain Loss: 0.803729\n",
            "Train Epoch: 6 [6400/50000(13%)]\tTrain Loss: 1.236444\n",
            "Train Epoch: 6 [12800/50000(26%)]\tTrain Loss: 1.190888\n",
            "Train Epoch: 6 [19200/50000(38%)]\tTrain Loss: 1.031678\n",
            "Train Epoch: 6 [25600/50000(51%)]\tTrain Loss: 1.101254\n",
            "Train Epoch: 6 [32000/50000(64%)]\tTrain Loss: 1.198693\n",
            "Train Epoch: 6 [38400/50000(77%)]\tTrain Loss: 0.793077\n",
            "Train Epoch: 6 [44800/50000(90%)]\tTrain Loss: 1.030393\n",
            "\n",
            "[EPOCH: 6], \tTest Loss: 0.0338, \tTest Accuracy: 61.61 % \n",
            "\n",
            "Train Epoch: 7 [0/50000(0%)]\tTrain Loss: 0.985493\n",
            "Train Epoch: 7 [6400/50000(13%)]\tTrain Loss: 0.795242\n",
            "Train Epoch: 7 [12800/50000(26%)]\tTrain Loss: 1.163343\n",
            "Train Epoch: 7 [19200/50000(38%)]\tTrain Loss: 1.137503\n",
            "Train Epoch: 7 [25600/50000(51%)]\tTrain Loss: 0.975239\n",
            "Train Epoch: 7 [32000/50000(64%)]\tTrain Loss: 0.880996\n",
            "Train Epoch: 7 [38400/50000(77%)]\tTrain Loss: 1.269453\n",
            "Train Epoch: 7 [44800/50000(90%)]\tTrain Loss: 1.397149\n",
            "\n",
            "[EPOCH: 7], \tTest Loss: 0.0343, \tTest Accuracy: 61.89 % \n",
            "\n",
            "Train Epoch: 8 [0/50000(0%)]\tTrain Loss: 1.126121\n",
            "Train Epoch: 8 [6400/50000(13%)]\tTrain Loss: 1.095867\n",
            "Train Epoch: 8 [12800/50000(26%)]\tTrain Loss: 0.865282\n",
            "Train Epoch: 8 [19200/50000(38%)]\tTrain Loss: 1.075295\n",
            "Train Epoch: 8 [25600/50000(51%)]\tTrain Loss: 1.286767\n",
            "Train Epoch: 8 [32000/50000(64%)]\tTrain Loss: 1.079836\n",
            "Train Epoch: 8 [38400/50000(77%)]\tTrain Loss: 1.148380\n",
            "Train Epoch: 8 [44800/50000(90%)]\tTrain Loss: 0.968939\n",
            "\n",
            "[EPOCH: 8], \tTest Loss: 0.0333, \tTest Accuracy: 62.40 % \n",
            "\n",
            "Train Epoch: 9 [0/50000(0%)]\tTrain Loss: 0.896629\n",
            "Train Epoch: 9 [6400/50000(13%)]\tTrain Loss: 0.936730\n",
            "Train Epoch: 9 [12800/50000(26%)]\tTrain Loss: 1.299916\n",
            "Train Epoch: 9 [19200/50000(38%)]\tTrain Loss: 0.667428\n",
            "Train Epoch: 9 [25600/50000(51%)]\tTrain Loss: 1.042402\n",
            "Train Epoch: 9 [32000/50000(64%)]\tTrain Loss: 1.105748\n",
            "Train Epoch: 9 [38400/50000(77%)]\tTrain Loss: 1.158048\n",
            "Train Epoch: 9 [44800/50000(90%)]\tTrain Loss: 1.344369\n",
            "\n",
            "[EPOCH: 9], \tTest Loss: 0.0322, \tTest Accuracy: 64.09 % \n",
            "\n",
            "Train Epoch: 10 [0/50000(0%)]\tTrain Loss: 0.991186\n",
            "Train Epoch: 10 [6400/50000(13%)]\tTrain Loss: 0.921928\n",
            "Train Epoch: 10 [12800/50000(26%)]\tTrain Loss: 0.789627\n",
            "Train Epoch: 10 [19200/50000(38%)]\tTrain Loss: 0.661428\n",
            "Train Epoch: 10 [25600/50000(51%)]\tTrain Loss: 1.392471\n",
            "Train Epoch: 10 [32000/50000(64%)]\tTrain Loss: 0.991321\n",
            "Train Epoch: 10 [38400/50000(77%)]\tTrain Loss: 0.794015\n",
            "Train Epoch: 10 [44800/50000(90%)]\tTrain Loss: 1.060612\n",
            "\n",
            "[EPOCH: 10], \tTest Loss: 0.0331, \tTest Accuracy: 62.86 % \n",
            "\n"
          ]
        }
      ]
    },
    {
      "cell_type": "markdown",
      "source": [
        "MLP는 48% 수준 -> Convolution 연산 추가한 CNN 모델은 65% 수준으로 향상됨"
      ],
      "metadata": {
        "id": "8NU7Lu2k9cb5"
      }
    },
    {
      "cell_type": "code",
      "source": [
        ""
      ],
      "metadata": {
        "id": "EqWKwl8YSeDa"
      },
      "execution_count": null,
      "outputs": []
    }
  ]
}