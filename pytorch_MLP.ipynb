{
  "nbformat": 4,
  "nbformat_minor": 0,
  "metadata": {
    "colab": {
      "name": "pytorch MLP.ipynb",
      "provenance": [],
      "collapsed_sections": [],
      "authorship_tag": "ABX9TyM2+Hf+ygPuNMibMvQ11ris",
      "include_colab_link": true
    },
    "kernelspec": {
      "name": "python3",
      "display_name": "Python 3"
    },
    "language_info": {
      "name": "python"
    },
    "widgets": {
      "application/vnd.jupyter.widget-state+json": {
        "0fa7eb9f12344c7e8e3c75e31bc1a2ff": {
          "model_module": "@jupyter-widgets/controls",
          "model_name": "HBoxModel",
          "model_module_version": "1.5.0",
          "state": {
            "_dom_classes": [],
            "_model_module": "@jupyter-widgets/controls",
            "_model_module_version": "1.5.0",
            "_model_name": "HBoxModel",
            "_view_count": null,
            "_view_module": "@jupyter-widgets/controls",
            "_view_module_version": "1.5.0",
            "_view_name": "HBoxView",
            "box_style": "",
            "children": [
              "IPY_MODEL_5da24770bc26492dac88e37186c5adff",
              "IPY_MODEL_9a177c465aee4988954f706571272621",
              "IPY_MODEL_c97ce36c5564480db8482c8c0ab84f17"
            ],
            "layout": "IPY_MODEL_26fe91b27e1742d3a52ae5d232b02099"
          }
        },
        "5da24770bc26492dac88e37186c5adff": {
          "model_module": "@jupyter-widgets/controls",
          "model_name": "HTMLModel",
          "model_module_version": "1.5.0",
          "state": {
            "_dom_classes": [],
            "_model_module": "@jupyter-widgets/controls",
            "_model_module_version": "1.5.0",
            "_model_name": "HTMLModel",
            "_view_count": null,
            "_view_module": "@jupyter-widgets/controls",
            "_view_module_version": "1.5.0",
            "_view_name": "HTMLView",
            "description": "",
            "description_tooltip": null,
            "layout": "IPY_MODEL_be7f51d33ebf4248b0b72d0938fc5f07",
            "placeholder": "​",
            "style": "IPY_MODEL_1d0935b55c524e1faddd52f1064caa17",
            "value": ""
          }
        },
        "9a177c465aee4988954f706571272621": {
          "model_module": "@jupyter-widgets/controls",
          "model_name": "FloatProgressModel",
          "model_module_version": "1.5.0",
          "state": {
            "_dom_classes": [],
            "_model_module": "@jupyter-widgets/controls",
            "_model_module_version": "1.5.0",
            "_model_name": "FloatProgressModel",
            "_view_count": null,
            "_view_module": "@jupyter-widgets/controls",
            "_view_module_version": "1.5.0",
            "_view_name": "ProgressView",
            "bar_style": "success",
            "description": "",
            "description_tooltip": null,
            "layout": "IPY_MODEL_180bf99de61a4ab88d228327c21e7bb3",
            "max": 9912422,
            "min": 0,
            "orientation": "horizontal",
            "style": "IPY_MODEL_d5dcdb54143045d09888545029dd823b",
            "value": 9912422
          }
        },
        "c97ce36c5564480db8482c8c0ab84f17": {
          "model_module": "@jupyter-widgets/controls",
          "model_name": "HTMLModel",
          "model_module_version": "1.5.0",
          "state": {
            "_dom_classes": [],
            "_model_module": "@jupyter-widgets/controls",
            "_model_module_version": "1.5.0",
            "_model_name": "HTMLModel",
            "_view_count": null,
            "_view_module": "@jupyter-widgets/controls",
            "_view_module_version": "1.5.0",
            "_view_name": "HTMLView",
            "description": "",
            "description_tooltip": null,
            "layout": "IPY_MODEL_0892f5a68e7e4b8c95e88bab4f0e25f2",
            "placeholder": "​",
            "style": "IPY_MODEL_ff1ff2b24da74bcab9f92a0426920a83",
            "value": " 9913344/? [00:00&lt;00:00, 22221196.76it/s]"
          }
        },
        "26fe91b27e1742d3a52ae5d232b02099": {
          "model_module": "@jupyter-widgets/base",
          "model_name": "LayoutModel",
          "model_module_version": "1.2.0",
          "state": {
            "_model_module": "@jupyter-widgets/base",
            "_model_module_version": "1.2.0",
            "_model_name": "LayoutModel",
            "_view_count": null,
            "_view_module": "@jupyter-widgets/base",
            "_view_module_version": "1.2.0",
            "_view_name": "LayoutView",
            "align_content": null,
            "align_items": null,
            "align_self": null,
            "border": null,
            "bottom": null,
            "display": null,
            "flex": null,
            "flex_flow": null,
            "grid_area": null,
            "grid_auto_columns": null,
            "grid_auto_flow": null,
            "grid_auto_rows": null,
            "grid_column": null,
            "grid_gap": null,
            "grid_row": null,
            "grid_template_areas": null,
            "grid_template_columns": null,
            "grid_template_rows": null,
            "height": null,
            "justify_content": null,
            "justify_items": null,
            "left": null,
            "margin": null,
            "max_height": null,
            "max_width": null,
            "min_height": null,
            "min_width": null,
            "object_fit": null,
            "object_position": null,
            "order": null,
            "overflow": null,
            "overflow_x": null,
            "overflow_y": null,
            "padding": null,
            "right": null,
            "top": null,
            "visibility": null,
            "width": null
          }
        },
        "be7f51d33ebf4248b0b72d0938fc5f07": {
          "model_module": "@jupyter-widgets/base",
          "model_name": "LayoutModel",
          "model_module_version": "1.2.0",
          "state": {
            "_model_module": "@jupyter-widgets/base",
            "_model_module_version": "1.2.0",
            "_model_name": "LayoutModel",
            "_view_count": null,
            "_view_module": "@jupyter-widgets/base",
            "_view_module_version": "1.2.0",
            "_view_name": "LayoutView",
            "align_content": null,
            "align_items": null,
            "align_self": null,
            "border": null,
            "bottom": null,
            "display": null,
            "flex": null,
            "flex_flow": null,
            "grid_area": null,
            "grid_auto_columns": null,
            "grid_auto_flow": null,
            "grid_auto_rows": null,
            "grid_column": null,
            "grid_gap": null,
            "grid_row": null,
            "grid_template_areas": null,
            "grid_template_columns": null,
            "grid_template_rows": null,
            "height": null,
            "justify_content": null,
            "justify_items": null,
            "left": null,
            "margin": null,
            "max_height": null,
            "max_width": null,
            "min_height": null,
            "min_width": null,
            "object_fit": null,
            "object_position": null,
            "order": null,
            "overflow": null,
            "overflow_x": null,
            "overflow_y": null,
            "padding": null,
            "right": null,
            "top": null,
            "visibility": null,
            "width": null
          }
        },
        "1d0935b55c524e1faddd52f1064caa17": {
          "model_module": "@jupyter-widgets/controls",
          "model_name": "DescriptionStyleModel",
          "model_module_version": "1.5.0",
          "state": {
            "_model_module": "@jupyter-widgets/controls",
            "_model_module_version": "1.5.0",
            "_model_name": "DescriptionStyleModel",
            "_view_count": null,
            "_view_module": "@jupyter-widgets/base",
            "_view_module_version": "1.2.0",
            "_view_name": "StyleView",
            "description_width": ""
          }
        },
        "180bf99de61a4ab88d228327c21e7bb3": {
          "model_module": "@jupyter-widgets/base",
          "model_name": "LayoutModel",
          "model_module_version": "1.2.0",
          "state": {
            "_model_module": "@jupyter-widgets/base",
            "_model_module_version": "1.2.0",
            "_model_name": "LayoutModel",
            "_view_count": null,
            "_view_module": "@jupyter-widgets/base",
            "_view_module_version": "1.2.0",
            "_view_name": "LayoutView",
            "align_content": null,
            "align_items": null,
            "align_self": null,
            "border": null,
            "bottom": null,
            "display": null,
            "flex": null,
            "flex_flow": null,
            "grid_area": null,
            "grid_auto_columns": null,
            "grid_auto_flow": null,
            "grid_auto_rows": null,
            "grid_column": null,
            "grid_gap": null,
            "grid_row": null,
            "grid_template_areas": null,
            "grid_template_columns": null,
            "grid_template_rows": null,
            "height": null,
            "justify_content": null,
            "justify_items": null,
            "left": null,
            "margin": null,
            "max_height": null,
            "max_width": null,
            "min_height": null,
            "min_width": null,
            "object_fit": null,
            "object_position": null,
            "order": null,
            "overflow": null,
            "overflow_x": null,
            "overflow_y": null,
            "padding": null,
            "right": null,
            "top": null,
            "visibility": null,
            "width": null
          }
        },
        "d5dcdb54143045d09888545029dd823b": {
          "model_module": "@jupyter-widgets/controls",
          "model_name": "ProgressStyleModel",
          "model_module_version": "1.5.0",
          "state": {
            "_model_module": "@jupyter-widgets/controls",
            "_model_module_version": "1.5.0",
            "_model_name": "ProgressStyleModel",
            "_view_count": null,
            "_view_module": "@jupyter-widgets/base",
            "_view_module_version": "1.2.0",
            "_view_name": "StyleView",
            "bar_color": null,
            "description_width": ""
          }
        },
        "0892f5a68e7e4b8c95e88bab4f0e25f2": {
          "model_module": "@jupyter-widgets/base",
          "model_name": "LayoutModel",
          "model_module_version": "1.2.0",
          "state": {
            "_model_module": "@jupyter-widgets/base",
            "_model_module_version": "1.2.0",
            "_model_name": "LayoutModel",
            "_view_count": null,
            "_view_module": "@jupyter-widgets/base",
            "_view_module_version": "1.2.0",
            "_view_name": "LayoutView",
            "align_content": null,
            "align_items": null,
            "align_self": null,
            "border": null,
            "bottom": null,
            "display": null,
            "flex": null,
            "flex_flow": null,
            "grid_area": null,
            "grid_auto_columns": null,
            "grid_auto_flow": null,
            "grid_auto_rows": null,
            "grid_column": null,
            "grid_gap": null,
            "grid_row": null,
            "grid_template_areas": null,
            "grid_template_columns": null,
            "grid_template_rows": null,
            "height": null,
            "justify_content": null,
            "justify_items": null,
            "left": null,
            "margin": null,
            "max_height": null,
            "max_width": null,
            "min_height": null,
            "min_width": null,
            "object_fit": null,
            "object_position": null,
            "order": null,
            "overflow": null,
            "overflow_x": null,
            "overflow_y": null,
            "padding": null,
            "right": null,
            "top": null,
            "visibility": null,
            "width": null
          }
        },
        "ff1ff2b24da74bcab9f92a0426920a83": {
          "model_module": "@jupyter-widgets/controls",
          "model_name": "DescriptionStyleModel",
          "model_module_version": "1.5.0",
          "state": {
            "_model_module": "@jupyter-widgets/controls",
            "_model_module_version": "1.5.0",
            "_model_name": "DescriptionStyleModel",
            "_view_count": null,
            "_view_module": "@jupyter-widgets/base",
            "_view_module_version": "1.2.0",
            "_view_name": "StyleView",
            "description_width": ""
          }
        },
        "37a847186c514516a03071ae531e00a2": {
          "model_module": "@jupyter-widgets/controls",
          "model_name": "HBoxModel",
          "model_module_version": "1.5.0",
          "state": {
            "_dom_classes": [],
            "_model_module": "@jupyter-widgets/controls",
            "_model_module_version": "1.5.0",
            "_model_name": "HBoxModel",
            "_view_count": null,
            "_view_module": "@jupyter-widgets/controls",
            "_view_module_version": "1.5.0",
            "_view_name": "HBoxView",
            "box_style": "",
            "children": [
              "IPY_MODEL_59cd8303eb36469fac4e9cf20399644d",
              "IPY_MODEL_b109a054b086468082d2f22337505092",
              "IPY_MODEL_bdf59ec343644e1d999c1ecff11188df"
            ],
            "layout": "IPY_MODEL_c7a3f7ac518d4999b35846d3869671f1"
          }
        },
        "59cd8303eb36469fac4e9cf20399644d": {
          "model_module": "@jupyter-widgets/controls",
          "model_name": "HTMLModel",
          "model_module_version": "1.5.0",
          "state": {
            "_dom_classes": [],
            "_model_module": "@jupyter-widgets/controls",
            "_model_module_version": "1.5.0",
            "_model_name": "HTMLModel",
            "_view_count": null,
            "_view_module": "@jupyter-widgets/controls",
            "_view_module_version": "1.5.0",
            "_view_name": "HTMLView",
            "description": "",
            "description_tooltip": null,
            "layout": "IPY_MODEL_670c05924194409aa012b90293e27195",
            "placeholder": "​",
            "style": "IPY_MODEL_8f018f9ce956441192f221258512cc78",
            "value": ""
          }
        },
        "b109a054b086468082d2f22337505092": {
          "model_module": "@jupyter-widgets/controls",
          "model_name": "FloatProgressModel",
          "model_module_version": "1.5.0",
          "state": {
            "_dom_classes": [],
            "_model_module": "@jupyter-widgets/controls",
            "_model_module_version": "1.5.0",
            "_model_name": "FloatProgressModel",
            "_view_count": null,
            "_view_module": "@jupyter-widgets/controls",
            "_view_module_version": "1.5.0",
            "_view_name": "ProgressView",
            "bar_style": "success",
            "description": "",
            "description_tooltip": null,
            "layout": "IPY_MODEL_e27ec72c39fd4338a40a12df1ec9ab9b",
            "max": 28881,
            "min": 0,
            "orientation": "horizontal",
            "style": "IPY_MODEL_85f5f7149aec4fe2bb8aabb223e4c97e",
            "value": 28881
          }
        },
        "bdf59ec343644e1d999c1ecff11188df": {
          "model_module": "@jupyter-widgets/controls",
          "model_name": "HTMLModel",
          "model_module_version": "1.5.0",
          "state": {
            "_dom_classes": [],
            "_model_module": "@jupyter-widgets/controls",
            "_model_module_version": "1.5.0",
            "_model_name": "HTMLModel",
            "_view_count": null,
            "_view_module": "@jupyter-widgets/controls",
            "_view_module_version": "1.5.0",
            "_view_name": "HTMLView",
            "description": "",
            "description_tooltip": null,
            "layout": "IPY_MODEL_62a7064a4f594d62b7b336f069e9a05b",
            "placeholder": "​",
            "style": "IPY_MODEL_86a43b42c32b44b9abba9848bbbd0881",
            "value": " 29696/? [00:00&lt;00:00, 394452.98it/s]"
          }
        },
        "c7a3f7ac518d4999b35846d3869671f1": {
          "model_module": "@jupyter-widgets/base",
          "model_name": "LayoutModel",
          "model_module_version": "1.2.0",
          "state": {
            "_model_module": "@jupyter-widgets/base",
            "_model_module_version": "1.2.0",
            "_model_name": "LayoutModel",
            "_view_count": null,
            "_view_module": "@jupyter-widgets/base",
            "_view_module_version": "1.2.0",
            "_view_name": "LayoutView",
            "align_content": null,
            "align_items": null,
            "align_self": null,
            "border": null,
            "bottom": null,
            "display": null,
            "flex": null,
            "flex_flow": null,
            "grid_area": null,
            "grid_auto_columns": null,
            "grid_auto_flow": null,
            "grid_auto_rows": null,
            "grid_column": null,
            "grid_gap": null,
            "grid_row": null,
            "grid_template_areas": null,
            "grid_template_columns": null,
            "grid_template_rows": null,
            "height": null,
            "justify_content": null,
            "justify_items": null,
            "left": null,
            "margin": null,
            "max_height": null,
            "max_width": null,
            "min_height": null,
            "min_width": null,
            "object_fit": null,
            "object_position": null,
            "order": null,
            "overflow": null,
            "overflow_x": null,
            "overflow_y": null,
            "padding": null,
            "right": null,
            "top": null,
            "visibility": null,
            "width": null
          }
        },
        "670c05924194409aa012b90293e27195": {
          "model_module": "@jupyter-widgets/base",
          "model_name": "LayoutModel",
          "model_module_version": "1.2.0",
          "state": {
            "_model_module": "@jupyter-widgets/base",
            "_model_module_version": "1.2.0",
            "_model_name": "LayoutModel",
            "_view_count": null,
            "_view_module": "@jupyter-widgets/base",
            "_view_module_version": "1.2.0",
            "_view_name": "LayoutView",
            "align_content": null,
            "align_items": null,
            "align_self": null,
            "border": null,
            "bottom": null,
            "display": null,
            "flex": null,
            "flex_flow": null,
            "grid_area": null,
            "grid_auto_columns": null,
            "grid_auto_flow": null,
            "grid_auto_rows": null,
            "grid_column": null,
            "grid_gap": null,
            "grid_row": null,
            "grid_template_areas": null,
            "grid_template_columns": null,
            "grid_template_rows": null,
            "height": null,
            "justify_content": null,
            "justify_items": null,
            "left": null,
            "margin": null,
            "max_height": null,
            "max_width": null,
            "min_height": null,
            "min_width": null,
            "object_fit": null,
            "object_position": null,
            "order": null,
            "overflow": null,
            "overflow_x": null,
            "overflow_y": null,
            "padding": null,
            "right": null,
            "top": null,
            "visibility": null,
            "width": null
          }
        },
        "8f018f9ce956441192f221258512cc78": {
          "model_module": "@jupyter-widgets/controls",
          "model_name": "DescriptionStyleModel",
          "model_module_version": "1.5.0",
          "state": {
            "_model_module": "@jupyter-widgets/controls",
            "_model_module_version": "1.5.0",
            "_model_name": "DescriptionStyleModel",
            "_view_count": null,
            "_view_module": "@jupyter-widgets/base",
            "_view_module_version": "1.2.0",
            "_view_name": "StyleView",
            "description_width": ""
          }
        },
        "e27ec72c39fd4338a40a12df1ec9ab9b": {
          "model_module": "@jupyter-widgets/base",
          "model_name": "LayoutModel",
          "model_module_version": "1.2.0",
          "state": {
            "_model_module": "@jupyter-widgets/base",
            "_model_module_version": "1.2.0",
            "_model_name": "LayoutModel",
            "_view_count": null,
            "_view_module": "@jupyter-widgets/base",
            "_view_module_version": "1.2.0",
            "_view_name": "LayoutView",
            "align_content": null,
            "align_items": null,
            "align_self": null,
            "border": null,
            "bottom": null,
            "display": null,
            "flex": null,
            "flex_flow": null,
            "grid_area": null,
            "grid_auto_columns": null,
            "grid_auto_flow": null,
            "grid_auto_rows": null,
            "grid_column": null,
            "grid_gap": null,
            "grid_row": null,
            "grid_template_areas": null,
            "grid_template_columns": null,
            "grid_template_rows": null,
            "height": null,
            "justify_content": null,
            "justify_items": null,
            "left": null,
            "margin": null,
            "max_height": null,
            "max_width": null,
            "min_height": null,
            "min_width": null,
            "object_fit": null,
            "object_position": null,
            "order": null,
            "overflow": null,
            "overflow_x": null,
            "overflow_y": null,
            "padding": null,
            "right": null,
            "top": null,
            "visibility": null,
            "width": null
          }
        },
        "85f5f7149aec4fe2bb8aabb223e4c97e": {
          "model_module": "@jupyter-widgets/controls",
          "model_name": "ProgressStyleModel",
          "model_module_version": "1.5.0",
          "state": {
            "_model_module": "@jupyter-widgets/controls",
            "_model_module_version": "1.5.0",
            "_model_name": "ProgressStyleModel",
            "_view_count": null,
            "_view_module": "@jupyter-widgets/base",
            "_view_module_version": "1.2.0",
            "_view_name": "StyleView",
            "bar_color": null,
            "description_width": ""
          }
        },
        "62a7064a4f594d62b7b336f069e9a05b": {
          "model_module": "@jupyter-widgets/base",
          "model_name": "LayoutModel",
          "model_module_version": "1.2.0",
          "state": {
            "_model_module": "@jupyter-widgets/base",
            "_model_module_version": "1.2.0",
            "_model_name": "LayoutModel",
            "_view_count": null,
            "_view_module": "@jupyter-widgets/base",
            "_view_module_version": "1.2.0",
            "_view_name": "LayoutView",
            "align_content": null,
            "align_items": null,
            "align_self": null,
            "border": null,
            "bottom": null,
            "display": null,
            "flex": null,
            "flex_flow": null,
            "grid_area": null,
            "grid_auto_columns": null,
            "grid_auto_flow": null,
            "grid_auto_rows": null,
            "grid_column": null,
            "grid_gap": null,
            "grid_row": null,
            "grid_template_areas": null,
            "grid_template_columns": null,
            "grid_template_rows": null,
            "height": null,
            "justify_content": null,
            "justify_items": null,
            "left": null,
            "margin": null,
            "max_height": null,
            "max_width": null,
            "min_height": null,
            "min_width": null,
            "object_fit": null,
            "object_position": null,
            "order": null,
            "overflow": null,
            "overflow_x": null,
            "overflow_y": null,
            "padding": null,
            "right": null,
            "top": null,
            "visibility": null,
            "width": null
          }
        },
        "86a43b42c32b44b9abba9848bbbd0881": {
          "model_module": "@jupyter-widgets/controls",
          "model_name": "DescriptionStyleModel",
          "model_module_version": "1.5.0",
          "state": {
            "_model_module": "@jupyter-widgets/controls",
            "_model_module_version": "1.5.0",
            "_model_name": "DescriptionStyleModel",
            "_view_count": null,
            "_view_module": "@jupyter-widgets/base",
            "_view_module_version": "1.2.0",
            "_view_name": "StyleView",
            "description_width": ""
          }
        },
        "165a48dc56574332857a20eb6b168ed5": {
          "model_module": "@jupyter-widgets/controls",
          "model_name": "HBoxModel",
          "model_module_version": "1.5.0",
          "state": {
            "_dom_classes": [],
            "_model_module": "@jupyter-widgets/controls",
            "_model_module_version": "1.5.0",
            "_model_name": "HBoxModel",
            "_view_count": null,
            "_view_module": "@jupyter-widgets/controls",
            "_view_module_version": "1.5.0",
            "_view_name": "HBoxView",
            "box_style": "",
            "children": [
              "IPY_MODEL_f6b8bea9b4bf4c8f9981f712f8a8040e",
              "IPY_MODEL_dce8ebdc8f9e44da8d13deabba7425a2",
              "IPY_MODEL_85255e73c47b48c6bfd06413b21afe54"
            ],
            "layout": "IPY_MODEL_bd88964f3c434a7ebda62e57260a0c82"
          }
        },
        "f6b8bea9b4bf4c8f9981f712f8a8040e": {
          "model_module": "@jupyter-widgets/controls",
          "model_name": "HTMLModel",
          "model_module_version": "1.5.0",
          "state": {
            "_dom_classes": [],
            "_model_module": "@jupyter-widgets/controls",
            "_model_module_version": "1.5.0",
            "_model_name": "HTMLModel",
            "_view_count": null,
            "_view_module": "@jupyter-widgets/controls",
            "_view_module_version": "1.5.0",
            "_view_name": "HTMLView",
            "description": "",
            "description_tooltip": null,
            "layout": "IPY_MODEL_dad7bc1f81d04cf3ac9dc34ca2d9dee3",
            "placeholder": "​",
            "style": "IPY_MODEL_2d8c2bf08e4b42ab8a70100aa14e6ac8",
            "value": ""
          }
        },
        "dce8ebdc8f9e44da8d13deabba7425a2": {
          "model_module": "@jupyter-widgets/controls",
          "model_name": "FloatProgressModel",
          "model_module_version": "1.5.0",
          "state": {
            "_dom_classes": [],
            "_model_module": "@jupyter-widgets/controls",
            "_model_module_version": "1.5.0",
            "_model_name": "FloatProgressModel",
            "_view_count": null,
            "_view_module": "@jupyter-widgets/controls",
            "_view_module_version": "1.5.0",
            "_view_name": "ProgressView",
            "bar_style": "success",
            "description": "",
            "description_tooltip": null,
            "layout": "IPY_MODEL_7afcdd2b57a14b54b9c56a20b2f28f60",
            "max": 1648877,
            "min": 0,
            "orientation": "horizontal",
            "style": "IPY_MODEL_7930d49a2c93483184dd7a521659dabb",
            "value": 1648877
          }
        },
        "85255e73c47b48c6bfd06413b21afe54": {
          "model_module": "@jupyter-widgets/controls",
          "model_name": "HTMLModel",
          "model_module_version": "1.5.0",
          "state": {
            "_dom_classes": [],
            "_model_module": "@jupyter-widgets/controls",
            "_model_module_version": "1.5.0",
            "_model_name": "HTMLModel",
            "_view_count": null,
            "_view_module": "@jupyter-widgets/controls",
            "_view_module_version": "1.5.0",
            "_view_name": "HTMLView",
            "description": "",
            "description_tooltip": null,
            "layout": "IPY_MODEL_458a0a0d119d438c95beb75038e16d6d",
            "placeholder": "​",
            "style": "IPY_MODEL_f9eb7da74f194856a608e8dca9f0f296",
            "value": " 1649664/? [00:00&lt;00:00, 2234649.82it/s]"
          }
        },
        "bd88964f3c434a7ebda62e57260a0c82": {
          "model_module": "@jupyter-widgets/base",
          "model_name": "LayoutModel",
          "model_module_version": "1.2.0",
          "state": {
            "_model_module": "@jupyter-widgets/base",
            "_model_module_version": "1.2.0",
            "_model_name": "LayoutModel",
            "_view_count": null,
            "_view_module": "@jupyter-widgets/base",
            "_view_module_version": "1.2.0",
            "_view_name": "LayoutView",
            "align_content": null,
            "align_items": null,
            "align_self": null,
            "border": null,
            "bottom": null,
            "display": null,
            "flex": null,
            "flex_flow": null,
            "grid_area": null,
            "grid_auto_columns": null,
            "grid_auto_flow": null,
            "grid_auto_rows": null,
            "grid_column": null,
            "grid_gap": null,
            "grid_row": null,
            "grid_template_areas": null,
            "grid_template_columns": null,
            "grid_template_rows": null,
            "height": null,
            "justify_content": null,
            "justify_items": null,
            "left": null,
            "margin": null,
            "max_height": null,
            "max_width": null,
            "min_height": null,
            "min_width": null,
            "object_fit": null,
            "object_position": null,
            "order": null,
            "overflow": null,
            "overflow_x": null,
            "overflow_y": null,
            "padding": null,
            "right": null,
            "top": null,
            "visibility": null,
            "width": null
          }
        },
        "dad7bc1f81d04cf3ac9dc34ca2d9dee3": {
          "model_module": "@jupyter-widgets/base",
          "model_name": "LayoutModel",
          "model_module_version": "1.2.0",
          "state": {
            "_model_module": "@jupyter-widgets/base",
            "_model_module_version": "1.2.0",
            "_model_name": "LayoutModel",
            "_view_count": null,
            "_view_module": "@jupyter-widgets/base",
            "_view_module_version": "1.2.0",
            "_view_name": "LayoutView",
            "align_content": null,
            "align_items": null,
            "align_self": null,
            "border": null,
            "bottom": null,
            "display": null,
            "flex": null,
            "flex_flow": null,
            "grid_area": null,
            "grid_auto_columns": null,
            "grid_auto_flow": null,
            "grid_auto_rows": null,
            "grid_column": null,
            "grid_gap": null,
            "grid_row": null,
            "grid_template_areas": null,
            "grid_template_columns": null,
            "grid_template_rows": null,
            "height": null,
            "justify_content": null,
            "justify_items": null,
            "left": null,
            "margin": null,
            "max_height": null,
            "max_width": null,
            "min_height": null,
            "min_width": null,
            "object_fit": null,
            "object_position": null,
            "order": null,
            "overflow": null,
            "overflow_x": null,
            "overflow_y": null,
            "padding": null,
            "right": null,
            "top": null,
            "visibility": null,
            "width": null
          }
        },
        "2d8c2bf08e4b42ab8a70100aa14e6ac8": {
          "model_module": "@jupyter-widgets/controls",
          "model_name": "DescriptionStyleModel",
          "model_module_version": "1.5.0",
          "state": {
            "_model_module": "@jupyter-widgets/controls",
            "_model_module_version": "1.5.0",
            "_model_name": "DescriptionStyleModel",
            "_view_count": null,
            "_view_module": "@jupyter-widgets/base",
            "_view_module_version": "1.2.0",
            "_view_name": "StyleView",
            "description_width": ""
          }
        },
        "7afcdd2b57a14b54b9c56a20b2f28f60": {
          "model_module": "@jupyter-widgets/base",
          "model_name": "LayoutModel",
          "model_module_version": "1.2.0",
          "state": {
            "_model_module": "@jupyter-widgets/base",
            "_model_module_version": "1.2.0",
            "_model_name": "LayoutModel",
            "_view_count": null,
            "_view_module": "@jupyter-widgets/base",
            "_view_module_version": "1.2.0",
            "_view_name": "LayoutView",
            "align_content": null,
            "align_items": null,
            "align_self": null,
            "border": null,
            "bottom": null,
            "display": null,
            "flex": null,
            "flex_flow": null,
            "grid_area": null,
            "grid_auto_columns": null,
            "grid_auto_flow": null,
            "grid_auto_rows": null,
            "grid_column": null,
            "grid_gap": null,
            "grid_row": null,
            "grid_template_areas": null,
            "grid_template_columns": null,
            "grid_template_rows": null,
            "height": null,
            "justify_content": null,
            "justify_items": null,
            "left": null,
            "margin": null,
            "max_height": null,
            "max_width": null,
            "min_height": null,
            "min_width": null,
            "object_fit": null,
            "object_position": null,
            "order": null,
            "overflow": null,
            "overflow_x": null,
            "overflow_y": null,
            "padding": null,
            "right": null,
            "top": null,
            "visibility": null,
            "width": null
          }
        },
        "7930d49a2c93483184dd7a521659dabb": {
          "model_module": "@jupyter-widgets/controls",
          "model_name": "ProgressStyleModel",
          "model_module_version": "1.5.0",
          "state": {
            "_model_module": "@jupyter-widgets/controls",
            "_model_module_version": "1.5.0",
            "_model_name": "ProgressStyleModel",
            "_view_count": null,
            "_view_module": "@jupyter-widgets/base",
            "_view_module_version": "1.2.0",
            "_view_name": "StyleView",
            "bar_color": null,
            "description_width": ""
          }
        },
        "458a0a0d119d438c95beb75038e16d6d": {
          "model_module": "@jupyter-widgets/base",
          "model_name": "LayoutModel",
          "model_module_version": "1.2.0",
          "state": {
            "_model_module": "@jupyter-widgets/base",
            "_model_module_version": "1.2.0",
            "_model_name": "LayoutModel",
            "_view_count": null,
            "_view_module": "@jupyter-widgets/base",
            "_view_module_version": "1.2.0",
            "_view_name": "LayoutView",
            "align_content": null,
            "align_items": null,
            "align_self": null,
            "border": null,
            "bottom": null,
            "display": null,
            "flex": null,
            "flex_flow": null,
            "grid_area": null,
            "grid_auto_columns": null,
            "grid_auto_flow": null,
            "grid_auto_rows": null,
            "grid_column": null,
            "grid_gap": null,
            "grid_row": null,
            "grid_template_areas": null,
            "grid_template_columns": null,
            "grid_template_rows": null,
            "height": null,
            "justify_content": null,
            "justify_items": null,
            "left": null,
            "margin": null,
            "max_height": null,
            "max_width": null,
            "min_height": null,
            "min_width": null,
            "object_fit": null,
            "object_position": null,
            "order": null,
            "overflow": null,
            "overflow_x": null,
            "overflow_y": null,
            "padding": null,
            "right": null,
            "top": null,
            "visibility": null,
            "width": null
          }
        },
        "f9eb7da74f194856a608e8dca9f0f296": {
          "model_module": "@jupyter-widgets/controls",
          "model_name": "DescriptionStyleModel",
          "model_module_version": "1.5.0",
          "state": {
            "_model_module": "@jupyter-widgets/controls",
            "_model_module_version": "1.5.0",
            "_model_name": "DescriptionStyleModel",
            "_view_count": null,
            "_view_module": "@jupyter-widgets/base",
            "_view_module_version": "1.2.0",
            "_view_name": "StyleView",
            "description_width": ""
          }
        },
        "289c357af0b041fbade8f7e9811a7e4f": {
          "model_module": "@jupyter-widgets/controls",
          "model_name": "HBoxModel",
          "model_module_version": "1.5.0",
          "state": {
            "_dom_classes": [],
            "_model_module": "@jupyter-widgets/controls",
            "_model_module_version": "1.5.0",
            "_model_name": "HBoxModel",
            "_view_count": null,
            "_view_module": "@jupyter-widgets/controls",
            "_view_module_version": "1.5.0",
            "_view_name": "HBoxView",
            "box_style": "",
            "children": [
              "IPY_MODEL_9854a8438b7d4092aa594d72864ebd12",
              "IPY_MODEL_67749eadd651425899d3e5184ebc96e5",
              "IPY_MODEL_9f7674cf4ec446d190870bfccbff73fb"
            ],
            "layout": "IPY_MODEL_4b76d6a87f004a63b1990e440fb138bc"
          }
        },
        "9854a8438b7d4092aa594d72864ebd12": {
          "model_module": "@jupyter-widgets/controls",
          "model_name": "HTMLModel",
          "model_module_version": "1.5.0",
          "state": {
            "_dom_classes": [],
            "_model_module": "@jupyter-widgets/controls",
            "_model_module_version": "1.5.0",
            "_model_name": "HTMLModel",
            "_view_count": null,
            "_view_module": "@jupyter-widgets/controls",
            "_view_module_version": "1.5.0",
            "_view_name": "HTMLView",
            "description": "",
            "description_tooltip": null,
            "layout": "IPY_MODEL_0a79b648da624d3b8441ae3e29abb2fc",
            "placeholder": "​",
            "style": "IPY_MODEL_c7fe0c9fdbd3454abfd39001af84e7f1",
            "value": ""
          }
        },
        "67749eadd651425899d3e5184ebc96e5": {
          "model_module": "@jupyter-widgets/controls",
          "model_name": "FloatProgressModel",
          "model_module_version": "1.5.0",
          "state": {
            "_dom_classes": [],
            "_model_module": "@jupyter-widgets/controls",
            "_model_module_version": "1.5.0",
            "_model_name": "FloatProgressModel",
            "_view_count": null,
            "_view_module": "@jupyter-widgets/controls",
            "_view_module_version": "1.5.0",
            "_view_name": "ProgressView",
            "bar_style": "success",
            "description": "",
            "description_tooltip": null,
            "layout": "IPY_MODEL_bf3bccdc551d47d2a2034e34d32230e2",
            "max": 4542,
            "min": 0,
            "orientation": "horizontal",
            "style": "IPY_MODEL_540ace39bb5b453a960bba1f6d7a46fb",
            "value": 4542
          }
        },
        "9f7674cf4ec446d190870bfccbff73fb": {
          "model_module": "@jupyter-widgets/controls",
          "model_name": "HTMLModel",
          "model_module_version": "1.5.0",
          "state": {
            "_dom_classes": [],
            "_model_module": "@jupyter-widgets/controls",
            "_model_module_version": "1.5.0",
            "_model_name": "HTMLModel",
            "_view_count": null,
            "_view_module": "@jupyter-widgets/controls",
            "_view_module_version": "1.5.0",
            "_view_name": "HTMLView",
            "description": "",
            "description_tooltip": null,
            "layout": "IPY_MODEL_6027e81e0f854acb83a5b30eea6fb081",
            "placeholder": "​",
            "style": "IPY_MODEL_9ab2506a1f364aad99cad441ab2527fb",
            "value": " 5120/? [00:00&lt;00:00, 82115.78it/s]"
          }
        },
        "4b76d6a87f004a63b1990e440fb138bc": {
          "model_module": "@jupyter-widgets/base",
          "model_name": "LayoutModel",
          "model_module_version": "1.2.0",
          "state": {
            "_model_module": "@jupyter-widgets/base",
            "_model_module_version": "1.2.0",
            "_model_name": "LayoutModel",
            "_view_count": null,
            "_view_module": "@jupyter-widgets/base",
            "_view_module_version": "1.2.0",
            "_view_name": "LayoutView",
            "align_content": null,
            "align_items": null,
            "align_self": null,
            "border": null,
            "bottom": null,
            "display": null,
            "flex": null,
            "flex_flow": null,
            "grid_area": null,
            "grid_auto_columns": null,
            "grid_auto_flow": null,
            "grid_auto_rows": null,
            "grid_column": null,
            "grid_gap": null,
            "grid_row": null,
            "grid_template_areas": null,
            "grid_template_columns": null,
            "grid_template_rows": null,
            "height": null,
            "justify_content": null,
            "justify_items": null,
            "left": null,
            "margin": null,
            "max_height": null,
            "max_width": null,
            "min_height": null,
            "min_width": null,
            "object_fit": null,
            "object_position": null,
            "order": null,
            "overflow": null,
            "overflow_x": null,
            "overflow_y": null,
            "padding": null,
            "right": null,
            "top": null,
            "visibility": null,
            "width": null
          }
        },
        "0a79b648da624d3b8441ae3e29abb2fc": {
          "model_module": "@jupyter-widgets/base",
          "model_name": "LayoutModel",
          "model_module_version": "1.2.0",
          "state": {
            "_model_module": "@jupyter-widgets/base",
            "_model_module_version": "1.2.0",
            "_model_name": "LayoutModel",
            "_view_count": null,
            "_view_module": "@jupyter-widgets/base",
            "_view_module_version": "1.2.0",
            "_view_name": "LayoutView",
            "align_content": null,
            "align_items": null,
            "align_self": null,
            "border": null,
            "bottom": null,
            "display": null,
            "flex": null,
            "flex_flow": null,
            "grid_area": null,
            "grid_auto_columns": null,
            "grid_auto_flow": null,
            "grid_auto_rows": null,
            "grid_column": null,
            "grid_gap": null,
            "grid_row": null,
            "grid_template_areas": null,
            "grid_template_columns": null,
            "grid_template_rows": null,
            "height": null,
            "justify_content": null,
            "justify_items": null,
            "left": null,
            "margin": null,
            "max_height": null,
            "max_width": null,
            "min_height": null,
            "min_width": null,
            "object_fit": null,
            "object_position": null,
            "order": null,
            "overflow": null,
            "overflow_x": null,
            "overflow_y": null,
            "padding": null,
            "right": null,
            "top": null,
            "visibility": null,
            "width": null
          }
        },
        "c7fe0c9fdbd3454abfd39001af84e7f1": {
          "model_module": "@jupyter-widgets/controls",
          "model_name": "DescriptionStyleModel",
          "model_module_version": "1.5.0",
          "state": {
            "_model_module": "@jupyter-widgets/controls",
            "_model_module_version": "1.5.0",
            "_model_name": "DescriptionStyleModel",
            "_view_count": null,
            "_view_module": "@jupyter-widgets/base",
            "_view_module_version": "1.2.0",
            "_view_name": "StyleView",
            "description_width": ""
          }
        },
        "bf3bccdc551d47d2a2034e34d32230e2": {
          "model_module": "@jupyter-widgets/base",
          "model_name": "LayoutModel",
          "model_module_version": "1.2.0",
          "state": {
            "_model_module": "@jupyter-widgets/base",
            "_model_module_version": "1.2.0",
            "_model_name": "LayoutModel",
            "_view_count": null,
            "_view_module": "@jupyter-widgets/base",
            "_view_module_version": "1.2.0",
            "_view_name": "LayoutView",
            "align_content": null,
            "align_items": null,
            "align_self": null,
            "border": null,
            "bottom": null,
            "display": null,
            "flex": null,
            "flex_flow": null,
            "grid_area": null,
            "grid_auto_columns": null,
            "grid_auto_flow": null,
            "grid_auto_rows": null,
            "grid_column": null,
            "grid_gap": null,
            "grid_row": null,
            "grid_template_areas": null,
            "grid_template_columns": null,
            "grid_template_rows": null,
            "height": null,
            "justify_content": null,
            "justify_items": null,
            "left": null,
            "margin": null,
            "max_height": null,
            "max_width": null,
            "min_height": null,
            "min_width": null,
            "object_fit": null,
            "object_position": null,
            "order": null,
            "overflow": null,
            "overflow_x": null,
            "overflow_y": null,
            "padding": null,
            "right": null,
            "top": null,
            "visibility": null,
            "width": null
          }
        },
        "540ace39bb5b453a960bba1f6d7a46fb": {
          "model_module": "@jupyter-widgets/controls",
          "model_name": "ProgressStyleModel",
          "model_module_version": "1.5.0",
          "state": {
            "_model_module": "@jupyter-widgets/controls",
            "_model_module_version": "1.5.0",
            "_model_name": "ProgressStyleModel",
            "_view_count": null,
            "_view_module": "@jupyter-widgets/base",
            "_view_module_version": "1.2.0",
            "_view_name": "StyleView",
            "bar_color": null,
            "description_width": ""
          }
        },
        "6027e81e0f854acb83a5b30eea6fb081": {
          "model_module": "@jupyter-widgets/base",
          "model_name": "LayoutModel",
          "model_module_version": "1.2.0",
          "state": {
            "_model_module": "@jupyter-widgets/base",
            "_model_module_version": "1.2.0",
            "_model_name": "LayoutModel",
            "_view_count": null,
            "_view_module": "@jupyter-widgets/base",
            "_view_module_version": "1.2.0",
            "_view_name": "LayoutView",
            "align_content": null,
            "align_items": null,
            "align_self": null,
            "border": null,
            "bottom": null,
            "display": null,
            "flex": null,
            "flex_flow": null,
            "grid_area": null,
            "grid_auto_columns": null,
            "grid_auto_flow": null,
            "grid_auto_rows": null,
            "grid_column": null,
            "grid_gap": null,
            "grid_row": null,
            "grid_template_areas": null,
            "grid_template_columns": null,
            "grid_template_rows": null,
            "height": null,
            "justify_content": null,
            "justify_items": null,
            "left": null,
            "margin": null,
            "max_height": null,
            "max_width": null,
            "min_height": null,
            "min_width": null,
            "object_fit": null,
            "object_position": null,
            "order": null,
            "overflow": null,
            "overflow_x": null,
            "overflow_y": null,
            "padding": null,
            "right": null,
            "top": null,
            "visibility": null,
            "width": null
          }
        },
        "9ab2506a1f364aad99cad441ab2527fb": {
          "model_module": "@jupyter-widgets/controls",
          "model_name": "DescriptionStyleModel",
          "model_module_version": "1.5.0",
          "state": {
            "_model_module": "@jupyter-widgets/controls",
            "_model_module_version": "1.5.0",
            "_model_name": "DescriptionStyleModel",
            "_view_count": null,
            "_view_module": "@jupyter-widgets/base",
            "_view_module_version": "1.2.0",
            "_view_name": "StyleView",
            "description_width": ""
          }
        }
      }
    }
  },
  "cells": [
    {
      "cell_type": "markdown",
      "metadata": {
        "id": "view-in-github",
        "colab_type": "text"
      },
      "source": [
        "<a href=\"https://colab.research.google.com/github/Yeoonsu/PythonPractice/blob/main/pytorch_MLP.ipynb\" target=\"_parent\"><img src=\"https://colab.research.google.com/assets/colab-badge.svg\" alt=\"Open In Colab\"/></a>"
      ]
    },
    {
      "cell_type": "code",
      "execution_count": null,
      "metadata": {
        "id": "5sittUdEjG6Q"
      },
      "outputs": [],
      "source": [
        "# 손글씨 데이터 MNIST 이용해 multi layer perceptron(MLP) 설계하기\n",
        "# 1. Module Import\n",
        "import numpy as np #(1)\n",
        "import matplotlib.pyplot as plt #(2)\n",
        "import torch #(3)\n",
        "import torch.nn as nn #(4) 파이토치 모듈 중 인공신경망 모델 설계할 때 필요한 함수\n",
        "import torch.nn.functional as F #(5) torch nn 모듈 중에서도 자주 이용되는 함수\n",
        "from torchvision import transforms, datasets #(6) cv 분야 torchvision 모듈 내 transforms, datasets 함수 임포트"
      ]
    },
    {
      "cell_type": "code",
      "source": [
        "# 2. 딥러닝 모델 설계 시 활용하는 장비 확인\n",
        "if torch.cuda.is_available():\n",
        "    DEVICE = torch.device('cuda')\n",
        "else:\n",
        "    DEVICE = torch.device('cpu')\n",
        "    \n",
        "print('Using PyTorch version:', torch.__version__, ' Device:', DEVICE)"
      ],
      "metadata": {
        "colab": {
          "base_uri": "https://localhost:8080/"
        },
        "id": "TrHs6SkjjMFh",
        "outputId": "fa86e7a2-4a0b-4c45-baff-3938614313ea"
      },
      "execution_count": null,
      "outputs": [
        {
          "output_type": "stream",
          "name": "stdout",
          "text": [
            "Using PyTorch version: 1.11.0+cu113  Device: cpu\n"
          ]
        }
      ]
    },
    {
      "cell_type": "code",
      "source": [
        "# 파이썬 코드 내 하이퍼파라미터를 지정할 때 보통 영어 대문자로 표기\n",
        "BATCH_SIZE = 32 #(1) 미니배치 1개당 데이터가 32개\n",
        "EPOCHS = 10 #(2) 전체 데이터를 이용해 학습을 진행한 횟수"
      ],
      "metadata": {
        "id": "nuBpYPmYjQAt"
      },
      "execution_count": null,
      "outputs": []
    },
    {
      "cell_type": "code",
      "source": [
        "# 3. MNIST 데이터 다운로드 (Train set, Test set 분리하기)\n",
        "train_dataset = datasets.MNIST(root = \"../data/MNIST\", #(1) root : 데이터가 저장될 장소 지정\n",
        "                               train = True,\n",
        "                               download = True,\n",
        "                               transform = transforms.ToTensor())\n",
        "test_dataset = datasets.MNIST(root = \"../data/MNIST\",\n",
        "                             train = False,\n",
        "                             transform = transforms.ToTensor())\n",
        "train_loader = torch.utils.data.DataLoader(dataset = train_dataset,\n",
        "                                          batch_size = BATCH_SIZE,\n",
        "                                          shuffle = True)\n",
        "test_loader = torch.utils.data.DataLoader(dataset = test_dataset,\n",
        "                                         batch_size = BATCH_SIZE,\n",
        "                                         shuffle = False)"
      ],
      "metadata": {
        "colab": {
          "base_uri": "https://localhost:8080/",
          "height": 444,
          "referenced_widgets": [
            "0fa7eb9f12344c7e8e3c75e31bc1a2ff",
            "5da24770bc26492dac88e37186c5adff",
            "9a177c465aee4988954f706571272621",
            "c97ce36c5564480db8482c8c0ab84f17",
            "26fe91b27e1742d3a52ae5d232b02099",
            "be7f51d33ebf4248b0b72d0938fc5f07",
            "1d0935b55c524e1faddd52f1064caa17",
            "180bf99de61a4ab88d228327c21e7bb3",
            "d5dcdb54143045d09888545029dd823b",
            "0892f5a68e7e4b8c95e88bab4f0e25f2",
            "ff1ff2b24da74bcab9f92a0426920a83",
            "37a847186c514516a03071ae531e00a2",
            "59cd8303eb36469fac4e9cf20399644d",
            "b109a054b086468082d2f22337505092",
            "bdf59ec343644e1d999c1ecff11188df",
            "c7a3f7ac518d4999b35846d3869671f1",
            "670c05924194409aa012b90293e27195",
            "8f018f9ce956441192f221258512cc78",
            "e27ec72c39fd4338a40a12df1ec9ab9b",
            "85f5f7149aec4fe2bb8aabb223e4c97e",
            "62a7064a4f594d62b7b336f069e9a05b",
            "86a43b42c32b44b9abba9848bbbd0881",
            "165a48dc56574332857a20eb6b168ed5",
            "f6b8bea9b4bf4c8f9981f712f8a8040e",
            "dce8ebdc8f9e44da8d13deabba7425a2",
            "85255e73c47b48c6bfd06413b21afe54",
            "bd88964f3c434a7ebda62e57260a0c82",
            "dad7bc1f81d04cf3ac9dc34ca2d9dee3",
            "2d8c2bf08e4b42ab8a70100aa14e6ac8",
            "7afcdd2b57a14b54b9c56a20b2f28f60",
            "7930d49a2c93483184dd7a521659dabb",
            "458a0a0d119d438c95beb75038e16d6d",
            "f9eb7da74f194856a608e8dca9f0f296",
            "289c357af0b041fbade8f7e9811a7e4f",
            "9854a8438b7d4092aa594d72864ebd12",
            "67749eadd651425899d3e5184ebc96e5",
            "9f7674cf4ec446d190870bfccbff73fb",
            "4b76d6a87f004a63b1990e440fb138bc",
            "0a79b648da624d3b8441ae3e29abb2fc",
            "c7fe0c9fdbd3454abfd39001af84e7f1",
            "bf3bccdc551d47d2a2034e34d32230e2",
            "540ace39bb5b453a960bba1f6d7a46fb",
            "6027e81e0f854acb83a5b30eea6fb081",
            "9ab2506a1f364aad99cad441ab2527fb"
          ]
        },
        "id": "pTiS55nfjSEm",
        "outputId": "ca463f5c-a6a9-4ac5-8125-852056087dd9"
      },
      "execution_count": null,
      "outputs": [
        {
          "output_type": "stream",
          "name": "stdout",
          "text": [
            "Downloading http://yann.lecun.com/exdb/mnist/train-images-idx3-ubyte.gz\n",
            "Downloading http://yann.lecun.com/exdb/mnist/train-images-idx3-ubyte.gz to ../data/MNIST/MNIST/raw/train-images-idx3-ubyte.gz\n"
          ]
        },
        {
          "output_type": "display_data",
          "data": {
            "text/plain": [
              "  0%|          | 0/9912422 [00:00<?, ?it/s]"
            ],
            "application/vnd.jupyter.widget-view+json": {
              "version_major": 2,
              "version_minor": 0,
              "model_id": "0fa7eb9f12344c7e8e3c75e31bc1a2ff"
            }
          },
          "metadata": {}
        },
        {
          "output_type": "stream",
          "name": "stdout",
          "text": [
            "Extracting ../data/MNIST/MNIST/raw/train-images-idx3-ubyte.gz to ../data/MNIST/MNIST/raw\n",
            "\n",
            "Downloading http://yann.lecun.com/exdb/mnist/train-labels-idx1-ubyte.gz\n",
            "Downloading http://yann.lecun.com/exdb/mnist/train-labels-idx1-ubyte.gz to ../data/MNIST/MNIST/raw/train-labels-idx1-ubyte.gz\n"
          ]
        },
        {
          "output_type": "display_data",
          "data": {
            "text/plain": [
              "  0%|          | 0/28881 [00:00<?, ?it/s]"
            ],
            "application/vnd.jupyter.widget-view+json": {
              "version_major": 2,
              "version_minor": 0,
              "model_id": "37a847186c514516a03071ae531e00a2"
            }
          },
          "metadata": {}
        },
        {
          "output_type": "stream",
          "name": "stdout",
          "text": [
            "Extracting ../data/MNIST/MNIST/raw/train-labels-idx1-ubyte.gz to ../data/MNIST/MNIST/raw\n",
            "\n",
            "Downloading http://yann.lecun.com/exdb/mnist/t10k-images-idx3-ubyte.gz\n",
            "Downloading http://yann.lecun.com/exdb/mnist/t10k-images-idx3-ubyte.gz to ../data/MNIST/MNIST/raw/t10k-images-idx3-ubyte.gz\n"
          ]
        },
        {
          "output_type": "display_data",
          "data": {
            "text/plain": [
              "  0%|          | 0/1648877 [00:00<?, ?it/s]"
            ],
            "application/vnd.jupyter.widget-view+json": {
              "version_major": 2,
              "version_minor": 0,
              "model_id": "165a48dc56574332857a20eb6b168ed5"
            }
          },
          "metadata": {}
        },
        {
          "output_type": "stream",
          "name": "stdout",
          "text": [
            "Extracting ../data/MNIST/MNIST/raw/t10k-images-idx3-ubyte.gz to ../data/MNIST/MNIST/raw\n",
            "\n",
            "Downloading http://yann.lecun.com/exdb/mnist/t10k-labels-idx1-ubyte.gz\n",
            "Downloading http://yann.lecun.com/exdb/mnist/t10k-labels-idx1-ubyte.gz to ../data/MNIST/MNIST/raw/t10k-labels-idx1-ubyte.gz\n"
          ]
        },
        {
          "output_type": "display_data",
          "data": {
            "text/plain": [
              "  0%|          | 0/4542 [00:00<?, ?it/s]"
            ],
            "application/vnd.jupyter.widget-view+json": {
              "version_major": 2,
              "version_minor": 0,
              "model_id": "289c357af0b041fbade8f7e9811a7e4f"
            }
          },
          "metadata": {}
        },
        {
          "output_type": "stream",
          "name": "stdout",
          "text": [
            "Extracting ../data/MNIST/MNIST/raw/t10k-labels-idx1-ubyte.gz to ../data/MNIST/MNIST/raw\n",
            "\n"
          ]
        }
      ]
    },
    {
      "cell_type": "code",
      "source": [
        "# 4. 데이터 확인하기 (1) \n",
        "for (X_train, y_train) in train_loader:\n",
        "    print('X_train:', X_train.size(), 'type:', X_train.type())\n",
        "    print('Y_train:', y_train.size(), 'type:', y_train.type())\n",
        "    break\n",
        "# X_train: torch.Size([32, 1, 28, 28]) type: torch.FloatTensor\n",
        "# y_train: torch.Size([32]) type: torch.LongTensor"
      ],
      "metadata": {
        "colab": {
          "base_uri": "https://localhost:8080/"
        },
        "id": "bmm6lBRXjTmY",
        "outputId": "b982bcaf-2111-45da-eea3-b7817c72ceb0"
      },
      "execution_count": null,
      "outputs": [
        {
          "output_type": "stream",
          "name": "stdout",
          "text": [
            "X_train: torch.Size([32, 1, 28, 28]) type: torch.FloatTensor\n",
            "Y_train: torch.Size([32]) type: torch.LongTensor\n"
          ]
        }
      ]
    },
    {
      "cell_type": "code",
      "source": [
        "# 5. 데이터 확인하기 (2)\n",
        "pltsize = 1\n",
        "plt.figure(figsize=(10 * pltsize, pltsize))\n",
        "for i in range(10):\n",
        "    plt.subplot(1, 10, i+1)\n",
        "    plt.axis('off')\n",
        "    plt.imshow(X_train[i, :, :, :].numpy().reshape(28, 28), cmap=\"gray_r\")\n",
        "    plt.title('Class: ' + str(y_train[i].item()))\n",
        "    # 커널 자꾸 died"
      ],
      "metadata": {
        "colab": {
          "base_uri": "https://localhost:8080/",
          "height": 94
        },
        "id": "qcBHsBDsjWGM",
        "outputId": "8738d181-c4f9-4063-db54-06926ed4b761"
      },
      "execution_count": null,
      "outputs": [
        {
          "output_type": "display_data",
          "data": {
            "text/plain": [
              "<Figure size 720x72 with 10 Axes>"
            ],
            "image/png": "[encoded data removed]"
          },
          "metadata": {
            "needs_background": "light"
          }
        }
      ]
    },
    {
      "cell_type": "code",
      "source": [
        "# # 6. MLP (Multi Layer Perceptron) 모델 설계하기\n",
        "# class Net(nn.Module):\n",
        "#   def __init__(self):\n",
        "#     super(Net, self).__init__()\n",
        "#     self.fc1 = nn.Linear(28 * 28, 512)\n",
        "#     self.fc2 = nn.Linear(512, 256)\n",
        "#     self.fc3 = nn.Linear(256, 10)\n",
        "#   def forward(self, x):\n",
        "#     x = x.view(-1, 28*28)\n",
        "#     x = self.fc1(x)\n",
        "#     x = F.sigmoid(x)\n",
        "#     x = self.fc2(x)\n",
        "#     x = F.sigmoid(x)\n",
        "#     x = self.fc3(x)\n",
        "#     x = F.log_softmax(x, dim = 1)\n",
        "#     return x"
      ],
      "metadata": {
        "id": "APOsqufwjeL6"
      },
      "execution_count": null,
      "outputs": []
    },
    {
      "cell_type": "code",
      "source": [
        "# # 6. \"Dropout 적용해서\" Multi Layer Perceptron(MLP) 모델 설계하기\n",
        "# class Net(nn.Module):\n",
        "#   def __init__(self):\n",
        "#     super(Net, self).__init__()\n",
        "#     self.fc1 = nn.Linear(28 * 28, 512)\n",
        "#     self.fc2 = nn.Linear(512, 256)\n",
        "#     self.fc3 = nn.Linear(256, 10)\n",
        "#     self.dropout_prob = 0.5\n",
        "#   def forward(self, x):\n",
        "#     x = x.view(-1, 28*28)\n",
        "#     x = self.fc1(x)\n",
        "#     x = F.sigmoid(x)\n",
        "#     x = F.dropout(x, training = self.training, p = self.dropout_prob)\n",
        "#     x = self.fc2(x)\n",
        "#     x = F.sigmoid(x)\n",
        "#     x = F.dropout(x, training = self.training, p = self.dropout_prob)\n",
        "#     x = self.fc3(x)\n",
        "#     x = F.log_softmax(x, dim=1)\n",
        "# return x"
      ],
      "metadata": {
        "id": "uwgYCHbOvgMJ"
      },
      "execution_count": null,
      "outputs": []
    },
    {
      "cell_type": "code",
      "source": [
        "# # 6. MLP 모델 sigmoid 대신 relu 함수 쓰기\n",
        "# class Net(nn.Module):\n",
        "#   def __init__(self):\n",
        "#     super(Net, self).__init__()\n",
        "#     self.fc1 = nn.Linear(28 * 28, 512)\n",
        "#     self.fc2 = nn.Linear(512, 256)\n",
        "#     self.fc3 = nn.Linear(256, 10)\n",
        "#     self.dropout_prob = 0.5\n",
        "\n",
        "#   def forward(self, x):\n",
        "#     x = x.view(-1, 28*28)\n",
        "#     x = self.fc1(x)\n",
        "#     x = F.relu(x)\n",
        "#     x = F.dropout(x, training = self.training, p = self.dropout_prob)\n",
        "#     x = self.fc2(x)\n",
        "#     x = F.relu(x)\n",
        "#     x = F.dropout(x, training = self.training, p = self.dropout_prob)\n",
        "#     x = self.fc3(x)\n",
        "#     x = F.log_softmax(x, dim = 1)\n",
        "#     return x\n"
      ],
      "metadata": {
        "id": "l4fuC2xRKNuo"
      },
      "execution_count": null,
      "outputs": []
    },
    {
      "cell_type": "code",
      "source": [
        "# 6. Batch Normalization을 Activation 함수 이전에 적용하기\n",
        "class Net(nn.Module):\n",
        "  def __init__(self):\n",
        "    super(Net, self).__init__()\n",
        "    self.fc1 = nn.Linear(28*28, 512)\n",
        "    self.fc2 = nn.Linear(512, 256)\n",
        "    self.fc3 = nn.Linear(256, 10)\n",
        "    self.dropout_prob = 0.5\n",
        "    self.batch_norm1 = nn.BatchNorm1d(512)\n",
        "    self.batch_norm2 = nn.BatchNorm1d(256)\n",
        "\n",
        "  def forward(self, x):\n",
        "    x = x.view(-1, 28*28)\n",
        "    x = self.fc1(x)\n",
        "    x = self.batch_norm1(x)\n",
        "    x = F.relu(x)\n",
        "    x = F.dropout(x, training = self.training, p = self.dropout_prob)\n",
        "    x = self.fc2(x)\n",
        "    x = self.batch_norm2(x)\n",
        "    x = F.relu(x)\n",
        "    x = F.dropout(x, training = self.training, p = self.dropout_prob)\n",
        "    x = self.fc3(x)\n",
        "    x = F.log_softmax(x, dim = 1)\n",
        "    return x\n"
      ],
      "metadata": {
        "id": "xugaps3iQO0s"
      },
      "execution_count": null,
      "outputs": []
    },
    {
      "cell_type": "markdown",
      "source": [
        "모든 데이터를 한번에 Feed Forward(Input에서 Weight와 Hidden을 거쳐 Output을 내보내는 과정)하면 컴퓨팅 문제로 너무 많은 연산을 필요로 함(비효율).\n",
        "1,000개 데이터 중 100개씩 쪼개 Feed Forwad, Back Propagation하면 10번 반복하게 되는데 이 한 과정을 Epoch\n",
        "100개 데이터 = Mini-Batch\n",
        "100의 크기 = Batch Size "
      ],
      "metadata": {
        "id": "OoBMcvpDyIsL"
      }
    },
    {
      "cell_type": "code",
      "source": [
        "# # 7. (기본) Optimizer, Objective Function 설정하기\n",
        "# model = Net().to(DEVICE)\n",
        "# optimizer = torch.optim.SGD(model.parameters(), lr=0.01, momentum=0.5)\n",
        "# criterion = nn.CrossEntropyLoss()\n",
        "\n",
        "# print(model)"
      ],
      "metadata": {
        "colab": {
          "base_uri": "https://localhost:8080/"
        },
        "id": "CW45cCDcjtkX",
        "outputId": "b3697e81-cf5c-4876-cb76-b62e4a799526"
      },
      "execution_count": null,
      "outputs": [
        {
          "output_type": "stream",
          "name": "stdout",
          "text": [
            "Net(\n",
            "  (fc1): Linear(in_features=784, out_features=512, bias=True)\n",
            "  (fc2): Linear(in_features=512, out_features=256, bias=True)\n",
            "  (fc3): Linear(in_features=256, out_features=10, bias=True)\n",
            ")\n"
          ]
        }
      ]
    },
    {
      "cell_type": "code",
      "source": [
        "#. (He Inetialization 이용하여 파라미터 초기화) Optimizer, Objective Function 설정하기\n",
        "# import torch.nn.init as init\n",
        "# def weight_init(m):\n",
        "#   if isinstance(m, nn.Linear):\n",
        "#     init.kaiming_uniform_(m.weight.data)\n",
        "\n",
        "# model = Net().to(DEVICE)\n",
        "# model.apply(weight_init)\n",
        "# optimizer = torch.optim.SGD(model.parameters(), lr = 0.01, momentum=0.5)\n",
        "# criterion = nn.CrossEntropyLoss()"
      ],
      "metadata": {
        "colab": {
          "base_uri": "https://localhost:8080/",
          "height": 305
        },
        "id": "4eRMigtBnQTm",
        "outputId": "6b327692-7888-430a-8a16-5f9802dc824a"
      },
      "execution_count": 1,
      "outputs": [
        {
          "output_type": "error",
          "ename": "KeyboardInterrupt",
          "evalue": "ignored",
          "traceback": [
            "\u001b[0;31m---------------------------------------------------------------------------\u001b[0m",
            "\u001b[0;31mKeyboardInterrupt\u001b[0m                         Traceback (most recent call last)",
            "\u001b[0;32m<ipython-input-1-464507e03029>\u001b[0m in \u001b[0;36m<module>\u001b[0;34m()\u001b[0m\n\u001b[1;32m      1\u001b[0m \u001b[0;31m#. (He Inetialization 이용하여 파라미터 초기화) Optimizer, Objective Function 설정하기\u001b[0m\u001b[0;34m\u001b[0m\u001b[0;34m\u001b[0m\u001b[0;34m\u001b[0m\u001b[0m\n\u001b[0;32m----> 2\u001b[0;31m \u001b[0;32mimport\u001b[0m \u001b[0mtorch\u001b[0m\u001b[0;34m.\u001b[0m\u001b[0mnn\u001b[0m\u001b[0;34m.\u001b[0m\u001b[0minit\u001b[0m \u001b[0;32mas\u001b[0m \u001b[0minit\u001b[0m\u001b[0;34m\u001b[0m\u001b[0;34m\u001b[0m\u001b[0m\n\u001b[0m\u001b[1;32m      3\u001b[0m \u001b[0;32mdef\u001b[0m \u001b[0mweight_init\u001b[0m\u001b[0;34m(\u001b[0m\u001b[0mm\u001b[0m\u001b[0;34m)\u001b[0m\u001b[0;34m:\u001b[0m\u001b[0;34m\u001b[0m\u001b[0;34m\u001b[0m\u001b[0m\n\u001b[1;32m      4\u001b[0m   \u001b[0;32mif\u001b[0m \u001b[0misinstance\u001b[0m\u001b[0;34m(\u001b[0m\u001b[0mm\u001b[0m\u001b[0;34m,\u001b[0m \u001b[0mnn\u001b[0m\u001b[0;34m.\u001b[0m\u001b[0mLinear\u001b[0m\u001b[0;34m)\u001b[0m\u001b[0;34m:\u001b[0m\u001b[0;34m\u001b[0m\u001b[0;34m\u001b[0m\u001b[0m\n\u001b[1;32m      5\u001b[0m     \u001b[0minit\u001b[0m\u001b[0;34m.\u001b[0m\u001b[0mkaiming_uniform_\u001b[0m\u001b[0;34m(\u001b[0m\u001b[0mm\u001b[0m\u001b[0;34m.\u001b[0m\u001b[0mweight\u001b[0m\u001b[0;34m.\u001b[0m\u001b[0mdata\u001b[0m\u001b[0;34m)\u001b[0m\u001b[0;34m\u001b[0m\u001b[0;34m\u001b[0m\u001b[0m\n",
            "\u001b[0;32m/usr/local/lib/python3.7/dist-packages/torch/__init__.py\u001b[0m in \u001b[0;36m<module>\u001b[0;34m()\u001b[0m\n\u001b[1;32m    749\u001b[0m \u001b[0;34m\u001b[0m\u001b[0m\n\u001b[1;32m    750\u001b[0m \u001b[0;31m# needs to be after the above ATen bindings so we can overwrite from Python side\u001b[0m\u001b[0;34m\u001b[0m\u001b[0;34m\u001b[0m\u001b[0;34m\u001b[0m\u001b[0m\n\u001b[0;32m--> 751\u001b[0;31m \u001b[0;32mfrom\u001b[0m \u001b[0;34m.\u001b[0m\u001b[0mfunctional\u001b[0m \u001b[0;32mimport\u001b[0m \u001b[0;34m*\u001b[0m  \u001b[0;31m# noqa: F403\u001b[0m\u001b[0;34m\u001b[0m\u001b[0;34m\u001b[0m\u001b[0m\n\u001b[0m\u001b[1;32m    752\u001b[0m \u001b[0;34m\u001b[0m\u001b[0m\n\u001b[1;32m    753\u001b[0m \u001b[0;34m\u001b[0m\u001b[0m\n",
            "\u001b[0;32m/usr/local/lib/python3.7/dist-packages/torch/functional.py\u001b[0m in \u001b[0;36m<module>\u001b[0;34m()\u001b[0m\n\u001b[1;32m      6\u001b[0m \u001b[0;34m\u001b[0m\u001b[0m\n\u001b[1;32m      7\u001b[0m \u001b[0;32mimport\u001b[0m \u001b[0mtorch\u001b[0m\u001b[0;34m\u001b[0m\u001b[0;34m\u001b[0m\u001b[0m\n\u001b[0;32m----> 8\u001b[0;31m \u001b[0;32mimport\u001b[0m \u001b[0mtorch\u001b[0m\u001b[0;34m.\u001b[0m\u001b[0mnn\u001b[0m\u001b[0;34m.\u001b[0m\u001b[0mfunctional\u001b[0m \u001b[0;32mas\u001b[0m \u001b[0mF\u001b[0m\u001b[0;34m\u001b[0m\u001b[0;34m\u001b[0m\u001b[0m\n\u001b[0m\u001b[1;32m      9\u001b[0m \u001b[0;32mfrom\u001b[0m \u001b[0;34m.\u001b[0m\u001b[0m_lowrank\u001b[0m \u001b[0;32mimport\u001b[0m \u001b[0msvd_lowrank\u001b[0m\u001b[0;34m,\u001b[0m \u001b[0mpca_lowrank\u001b[0m\u001b[0;34m\u001b[0m\u001b[0;34m\u001b[0m\u001b[0m\n\u001b[1;32m     10\u001b[0m from .overrides import (\n",
            "\u001b[0;32m/usr/local/lib/python3.7/dist-packages/torch/nn/__init__.py\u001b[0m in \u001b[0;36m<module>\u001b[0;34m()\u001b[0m\n\u001b[0;32m----> 1\u001b[0;31m \u001b[0;32mfrom\u001b[0m \u001b[0;34m.\u001b[0m\u001b[0mmodules\u001b[0m \u001b[0;32mimport\u001b[0m \u001b[0;34m*\u001b[0m  \u001b[0;31m# noqa: F403\u001b[0m\u001b[0;34m\u001b[0m\u001b[0;34m\u001b[0m\u001b[0m\n\u001b[0m\u001b[1;32m      2\u001b[0m \u001b[0;32mfrom\u001b[0m \u001b[0;34m.\u001b[0m\u001b[0mparameter\u001b[0m \u001b[0;32mimport\u001b[0m \u001b[0mParameter\u001b[0m\u001b[0;34m,\u001b[0m \u001b[0mUninitializedParameter\u001b[0m\u001b[0;34m,\u001b[0m \u001b[0mUninitializedBuffer\u001b[0m\u001b[0;34m\u001b[0m\u001b[0;34m\u001b[0m\u001b[0m\n\u001b[1;32m      3\u001b[0m \u001b[0;32mfrom\u001b[0m \u001b[0;34m.\u001b[0m\u001b[0mparallel\u001b[0m \u001b[0;32mimport\u001b[0m \u001b[0mDataParallel\u001b[0m\u001b[0;34m\u001b[0m\u001b[0;34m\u001b[0m\u001b[0m\n\u001b[1;32m      4\u001b[0m \u001b[0;32mfrom\u001b[0m \u001b[0;34m.\u001b[0m \u001b[0;32mimport\u001b[0m \u001b[0minit\u001b[0m\u001b[0;34m\u001b[0m\u001b[0;34m\u001b[0m\u001b[0m\n\u001b[1;32m      5\u001b[0m \u001b[0;32mfrom\u001b[0m \u001b[0;34m.\u001b[0m \u001b[0;32mimport\u001b[0m \u001b[0mutils\u001b[0m\u001b[0;34m\u001b[0m\u001b[0;34m\u001b[0m\u001b[0m\n",
            "\u001b[0;32m/usr/local/lib/python3.7/dist-packages/torch/nn/modules/__init__.py\u001b[0m in \u001b[0;36m<module>\u001b[0;34m()\u001b[0m\n\u001b[1;32m      1\u001b[0m \u001b[0;32mfrom\u001b[0m \u001b[0;34m.\u001b[0m\u001b[0mmodule\u001b[0m \u001b[0;32mimport\u001b[0m \u001b[0mModule\u001b[0m\u001b[0;34m\u001b[0m\u001b[0;34m\u001b[0m\u001b[0m\n\u001b[0;32m----> 2\u001b[0;31m \u001b[0;32mfrom\u001b[0m \u001b[0;34m.\u001b[0m\u001b[0mlinear\u001b[0m \u001b[0;32mimport\u001b[0m \u001b[0mIdentity\u001b[0m\u001b[0;34m,\u001b[0m \u001b[0mLinear\u001b[0m\u001b[0;34m,\u001b[0m \u001b[0mBilinear\u001b[0m\u001b[0;34m,\u001b[0m \u001b[0mLazyLinear\u001b[0m\u001b[0;34m\u001b[0m\u001b[0;34m\u001b[0m\u001b[0m\n\u001b[0m\u001b[1;32m      3\u001b[0m \u001b[0;32mfrom\u001b[0m \u001b[0;34m.\u001b[0m\u001b[0mconv\u001b[0m \u001b[0;32mimport\u001b[0m \u001b[0mConv1d\u001b[0m\u001b[0;34m,\u001b[0m \u001b[0mConv2d\u001b[0m\u001b[0;34m,\u001b[0m \u001b[0mConv3d\u001b[0m\u001b[0;34m,\u001b[0m\u001b[0;31m \u001b[0m\u001b[0;31m\\\u001b[0m\u001b[0;34m\u001b[0m\u001b[0;34m\u001b[0m\u001b[0m\n\u001b[1;32m      4\u001b[0m     \u001b[0mConvTranspose1d\u001b[0m\u001b[0;34m,\u001b[0m \u001b[0mConvTranspose2d\u001b[0m\u001b[0;34m,\u001b[0m \u001b[0mConvTranspose3d\u001b[0m\u001b[0;34m,\u001b[0m\u001b[0;31m \u001b[0m\u001b[0;31m\\\u001b[0m\u001b[0;34m\u001b[0m\u001b[0;34m\u001b[0m\u001b[0m\n\u001b[1;32m      5\u001b[0m     \u001b[0mLazyConv1d\u001b[0m\u001b[0;34m,\u001b[0m \u001b[0mLazyConv2d\u001b[0m\u001b[0;34m,\u001b[0m \u001b[0mLazyConv3d\u001b[0m\u001b[0;34m,\u001b[0m \u001b[0mLazyConvTranspose1d\u001b[0m\u001b[0;34m,\u001b[0m \u001b[0mLazyConvTranspose2d\u001b[0m\u001b[0;34m,\u001b[0m \u001b[0mLazyConvTranspose3d\u001b[0m\u001b[0;34m\u001b[0m\u001b[0;34m\u001b[0m\u001b[0m\n",
            "\u001b[0;32m/usr/local/lib/python3.7/dist-packages/torch/nn/modules/linear.py\u001b[0m in \u001b[0;36m<module>\u001b[0;34m()\u001b[0m\n\u001b[1;32m      4\u001b[0m \u001b[0;32mfrom\u001b[0m \u001b[0mtorch\u001b[0m \u001b[0;32mimport\u001b[0m \u001b[0mTensor\u001b[0m\u001b[0;34m\u001b[0m\u001b[0;34m\u001b[0m\u001b[0m\n\u001b[1;32m      5\u001b[0m \u001b[0;32mfrom\u001b[0m \u001b[0mtorch\u001b[0m\u001b[0;34m.\u001b[0m\u001b[0mnn\u001b[0m\u001b[0;34m.\u001b[0m\u001b[0mparameter\u001b[0m \u001b[0;32mimport\u001b[0m \u001b[0mParameter\u001b[0m\u001b[0;34m,\u001b[0m \u001b[0mUninitializedParameter\u001b[0m\u001b[0;34m\u001b[0m\u001b[0;34m\u001b[0m\u001b[0m\n\u001b[0;32m----> 6\u001b[0;31m \u001b[0;32mfrom\u001b[0m \u001b[0;34m.\u001b[0m\u001b[0;34m.\u001b[0m \u001b[0;32mimport\u001b[0m \u001b[0mfunctional\u001b[0m \u001b[0;32mas\u001b[0m \u001b[0mF\u001b[0m\u001b[0;34m\u001b[0m\u001b[0;34m\u001b[0m\u001b[0m\n\u001b[0m\u001b[1;32m      7\u001b[0m \u001b[0;32mfrom\u001b[0m \u001b[0;34m.\u001b[0m\u001b[0;34m.\u001b[0m \u001b[0;32mimport\u001b[0m \u001b[0minit\u001b[0m\u001b[0;34m\u001b[0m\u001b[0;34m\u001b[0m\u001b[0m\n\u001b[1;32m      8\u001b[0m \u001b[0;32mfrom\u001b[0m \u001b[0;34m.\u001b[0m\u001b[0mmodule\u001b[0m \u001b[0;32mimport\u001b[0m \u001b[0mModule\u001b[0m\u001b[0;34m\u001b[0m\u001b[0;34m\u001b[0m\u001b[0m\n",
            "\u001b[0;32m/usr/local/lib/python3.7/dist-packages/torch/nn/functional.py\u001b[0m in \u001b[0;36m<module>\u001b[0;34m()\u001b[0m\n\u001b[1;32m     16\u001b[0m     \u001b[0mDType\u001b[0m \u001b[0;34m=\u001b[0m \u001b[0mint\u001b[0m\u001b[0;34m\u001b[0m\u001b[0;34m\u001b[0m\u001b[0m\n\u001b[1;32m     17\u001b[0m \u001b[0;34m\u001b[0m\u001b[0m\n\u001b[0;32m---> 18\u001b[0;31m \u001b[0;32mfrom\u001b[0m \u001b[0;34m.\u001b[0m\u001b[0;34m.\u001b[0m\u001b[0m_jit_internal\u001b[0m \u001b[0;32mimport\u001b[0m \u001b[0mboolean_dispatch\u001b[0m\u001b[0;34m,\u001b[0m \u001b[0m_overload\u001b[0m\u001b[0;34m,\u001b[0m \u001b[0mBroadcastingList1\u001b[0m\u001b[0;34m,\u001b[0m \u001b[0mBroadcastingList2\u001b[0m\u001b[0;34m,\u001b[0m \u001b[0mBroadcastingList3\u001b[0m\u001b[0;34m\u001b[0m\u001b[0;34m\u001b[0m\u001b[0m\n\u001b[0m\u001b[1;32m     19\u001b[0m from ..overrides import (\n\u001b[1;32m     20\u001b[0m     \u001b[0mhas_torch_function\u001b[0m\u001b[0;34m,\u001b[0m \u001b[0mhas_torch_function_unary\u001b[0m\u001b[0;34m,\u001b[0m \u001b[0mhas_torch_function_variadic\u001b[0m\u001b[0;34m,\u001b[0m\u001b[0;34m\u001b[0m\u001b[0;34m\u001b[0m\u001b[0m\n",
            "\u001b[0;32m/usr/local/lib/python3.7/dist-packages/torch/_jit_internal.py\u001b[0m in \u001b[0;36m<module>\u001b[0;34m()\u001b[0m\n\u001b[1;32m     22\u001b[0m \u001b[0;31m# Explicitly ask to import `torch.distributed.__init__` first.\u001b[0m\u001b[0;34m\u001b[0m\u001b[0;34m\u001b[0m\u001b[0;34m\u001b[0m\u001b[0m\n\u001b[1;32m     23\u001b[0m \u001b[0;31m# Otherwise, \"AttributeError: module 'torch' has no attribute 'distributed'\" is raised.\u001b[0m\u001b[0;34m\u001b[0m\u001b[0;34m\u001b[0m\u001b[0;34m\u001b[0m\u001b[0m\n\u001b[0;32m---> 24\u001b[0;31m \u001b[0;32mimport\u001b[0m \u001b[0mtorch\u001b[0m\u001b[0;34m.\u001b[0m\u001b[0mdistributed\u001b[0m\u001b[0;34m.\u001b[0m\u001b[0mrpc\u001b[0m\u001b[0;34m\u001b[0m\u001b[0;34m\u001b[0m\u001b[0m\n\u001b[0m\u001b[1;32m     25\u001b[0m \u001b[0;32mfrom\u001b[0m \u001b[0mtorch\u001b[0m\u001b[0;34m.\u001b[0m\u001b[0m_C\u001b[0m \u001b[0;32mimport\u001b[0m \u001b[0mFuture\u001b[0m \u001b[0;32mas\u001b[0m \u001b[0mCFuture\u001b[0m\u001b[0;34m\u001b[0m\u001b[0;34m\u001b[0m\u001b[0m\n\u001b[1;32m     26\u001b[0m \u001b[0;32mfrom\u001b[0m \u001b[0mtorch\u001b[0m\u001b[0;34m.\u001b[0m\u001b[0m_sources\u001b[0m \u001b[0;32mimport\u001b[0m \u001b[0mget_source_lines_and_file\u001b[0m\u001b[0;34m,\u001b[0m \u001b[0mparse_def\u001b[0m\u001b[0;34m,\u001b[0m \u001b[0mfake_range\u001b[0m\u001b[0;34m\u001b[0m\u001b[0;34m\u001b[0m\u001b[0m\n",
            "\u001b[0;32m/usr/local/lib/python3.7/dist-packages/torch/distributed/rpc/__init__.py\u001b[0m in \u001b[0;36m<module>\u001b[0;34m()\u001b[0m\n\u001b[1;32m     62\u001b[0m     )  # noqa: F401\n\u001b[1;32m     63\u001b[0m \u001b[0;34m\u001b[0m\u001b[0m\n\u001b[0;32m---> 64\u001b[0;31m     \u001b[0;32mfrom\u001b[0m \u001b[0;34m.\u001b[0m \u001b[0;32mimport\u001b[0m \u001b[0mapi\u001b[0m\u001b[0;34m,\u001b[0m \u001b[0mbackend_registry\u001b[0m\u001b[0;34m,\u001b[0m \u001b[0mfunctions\u001b[0m\u001b[0;34m\u001b[0m\u001b[0;34m\u001b[0m\u001b[0m\n\u001b[0m\u001b[1;32m     65\u001b[0m     \u001b[0;32mfrom\u001b[0m \u001b[0;34m.\u001b[0m\u001b[0mapi\u001b[0m \u001b[0;32mimport\u001b[0m \u001b[0;34m*\u001b[0m  \u001b[0;31m# noqa: F401,F403\u001b[0m\u001b[0;34m\u001b[0m\u001b[0;34m\u001b[0m\u001b[0m\n\u001b[1;32m     66\u001b[0m     \u001b[0;32mimport\u001b[0m \u001b[0mnumbers\u001b[0m\u001b[0;34m\u001b[0m\u001b[0;34m\u001b[0m\u001b[0m\n",
            "\u001b[0;32m/usr/local/lib/python3.7/dist-packages/torch/distributed/rpc/api.py\u001b[0m in \u001b[0;36m<module>\u001b[0;34m()\u001b[0m\n\u001b[1;32m      8\u001b[0m \u001b[0;34m\u001b[0m\u001b[0m\n\u001b[1;32m      9\u001b[0m \u001b[0;32mimport\u001b[0m \u001b[0mtorch\u001b[0m\u001b[0;34m\u001b[0m\u001b[0;34m\u001b[0m\u001b[0m\n\u001b[0;32m---> 10\u001b[0;31m \u001b[0;32mfrom\u001b[0m \u001b[0mtorch\u001b[0m\u001b[0;34m.\u001b[0m\u001b[0mfutures\u001b[0m \u001b[0;32mimport\u001b[0m \u001b[0mFuture\u001b[0m\u001b[0;34m\u001b[0m\u001b[0;34m\u001b[0m\u001b[0m\n\u001b[0m\u001b[1;32m     11\u001b[0m \u001b[0;34m\u001b[0m\u001b[0m\n\u001b[1;32m     12\u001b[0m from torch._C._distributed_rpc import (\n",
            "\u001b[0;32m/usr/lib/python3.7/importlib/_bootstrap.py\u001b[0m in \u001b[0;36m_find_and_load\u001b[0;34m(name, import_)\u001b[0m\n",
            "\u001b[0;32m/usr/lib/python3.7/importlib/_bootstrap.py\u001b[0m in \u001b[0;36m_find_and_load_unlocked\u001b[0;34m(name, import_)\u001b[0m\n",
            "\u001b[0;32m/usr/lib/python3.7/importlib/_bootstrap.py\u001b[0m in \u001b[0;36m_find_spec\u001b[0;34m(name, path, target)\u001b[0m\n",
            "\u001b[0;32m/usr/lib/python3.7/importlib/_bootstrap_external.py\u001b[0m in \u001b[0;36mfind_spec\u001b[0;34m(cls, fullname, path, target)\u001b[0m\n",
            "\u001b[0;32m/usr/lib/python3.7/importlib/_bootstrap_external.py\u001b[0m in \u001b[0;36m_get_spec\u001b[0;34m(cls, fullname, path, target)\u001b[0m\n",
            "\u001b[0;32m/usr/lib/python3.7/importlib/_bootstrap_external.py\u001b[0m in \u001b[0;36mfind_spec\u001b[0;34m(self, fullname, target)\u001b[0m\n",
            "\u001b[0;32m/usr/lib/python3.7/importlib/_bootstrap_external.py\u001b[0m in \u001b[0;36m_path_isfile\u001b[0;34m(path)\u001b[0m\n",
            "\u001b[0;31mKeyboardInterrupt\u001b[0m: "
          ]
        }
      ]
    },
    {
      "cell_type": "code",
      "source": [
        "# 7번 Adam optimizer로 변경\n",
        "import torch.nn.init as init\n",
        "def weight_init(m):\n",
        "   if isinstance(m, nn.Linear):\n",
        "     init.kaiming_uniform_(m.weight.data)\n",
        "\n",
        "model = Net().to(DEVICE)\n",
        "model.apply(weight_init)\n",
        "optimizer = torch.optim.Adam(model.parameters(), lr = 0.01)\n",
        "criterion = nn.CrossEntropyLoss()"
      ],
      "metadata": {
        "id": "iZhTiYkZzWMi"
      },
      "execution_count": null,
      "outputs": []
    },
    {
      "cell_type": "code",
      "source": [
        "# 8. MLP 모델 학습을 진행하며 학습 데이터에 대한 모델 성능을 확인하는 함수 정의\n",
        "def train(model, train_loader, optimizer, log_interval):\n",
        "  model.train()\n",
        "  for batch_idx,(image, label) in enumerate(train_loader):\n",
        "    image = image.to(DEVICE)\n",
        "    label = label.to(DEVICE)\n",
        "    optimizer.zero_grad()\n",
        "    output = model(image)\n",
        "    loss = criterion(output, label)\n",
        "    loss.backward()\n",
        "    optimizer.step()\n",
        "\n",
        "    if batch_idx % log_interval == 0:\n",
        "      print(\"Train Epoch: {} [{}/{}({:.0f}%)]\\tTrain Loss: {:.6f}\".format(\n",
        "          Epoch, batch_idx * len(image),\n",
        "          len(train_loader.dataset), 100. * batch_idx / len(train_loader),\n",
        "          loss.item()\n",
        "      ))"
      ],
      "metadata": {
        "id": "adXFWSh-lFKo"
      },
      "execution_count": null,
      "outputs": []
    },
    {
      "cell_type": "code",
      "source": [
        "# 9. 학습되는 과정 속에서 검증 데이터에 대한 모델 성능을 확인하는 함수 정의\n",
        "def evaluate(model, test_loader):\n",
        "  model.eval()\n",
        "  test_loss = 0\n",
        "  correct = 0\n",
        "\n",
        "  with torch.no_grad():\n",
        "    for image, label in test_loader:\n",
        "      image = image.to(DEVICE)\n",
        "      label = label.to(DEVICE)\n",
        "      output = model(image)\n",
        "      test_loss += criterion(output, label).item()\n",
        "      prediction = output.max(1, keepdim = True)[1]\n",
        "      correct += prediction.eq(label.view_as(prediction)).sum().item()\n",
        "\n",
        "  test_loss /= len(test_loader.dataset)\n",
        "  test_accuracy = 100. * correct / len(test_loader.dataset)\n",
        "  return test_loss, test_accuracy"
      ],
      "metadata": {
        "id": "4sfXK-U5jtPU"
      },
      "execution_count": null,
      "outputs": []
    },
    {
      "cell_type": "code",
      "source": [
        "# 10. MLT 학습을 실행하면서 Train, Test set의 Loss 및 Test set Accuracy를 확인하기\n",
        "for Epoch in range(1, EPOCHS + 1):\n",
        "  train(model, train_loader, optimizer, log_interval = 200)\n",
        "  test_loss, test_accuracy = evaluate(model, test_loader)\n",
        "  print(\"\\n[EPOCH: {}], \\tTest Loss: {:.4f}, \\tTest Accuracy: {:.2f} %\\n\".\n",
        "        format(Epoch, test_loss, test_accuracy))"
      ],
      "metadata": {
        "colab": {
          "base_uri": "https://localhost:8080/"
        },
        "id": "psg5OGVHznLL",
        "outputId": "2f9cd0ab-9ac4-4386-b593-3bf96224a986"
      },
      "execution_count": null,
      "outputs": [
        {
          "output_type": "stream",
          "name": "stderr",
          "text": [
            "/usr/local/lib/python3.7/dist-packages/torch/nn/functional.py:1944: UserWarning: nn.functional.sigmoid is deprecated. Use torch.sigmoid instead.\n",
            "  warnings.warn(\"nn.functional.sigmoid is deprecated. Use torch.sigmoid instead.\")\n"
          ]
        },
        {
          "output_type": "stream",
          "name": "stdout",
          "text": [
            "Train Epoch: 1 [0/60000(0%)]\tTrain Loss: 2.332725\n",
            "Train Epoch: 1 [6400/60000(11%)]\tTrain Loss: 2.326303\n",
            "Train Epoch: 1 [12800/60000(21%)]\tTrain Loss: 2.300049\n",
            "Train Epoch: 1 [19200/60000(32%)]\tTrain Loss: 2.276183\n",
            "Train Epoch: 1 [25600/60000(43%)]\tTrain Loss: 2.245530\n",
            "Train Epoch: 1 [32000/60000(53%)]\tTrain Loss: 2.252391\n",
            "Train Epoch: 1 [38400/60000(64%)]\tTrain Loss: 2.284619\n",
            "Train Epoch: 1 [44800/60000(75%)]\tTrain Loss: 2.260747\n",
            "Train Epoch: 1 [51200/60000(85%)]\tTrain Loss: 2.333320\n",
            "Train Epoch: 1 [57600/60000(96%)]\tTrain Loss: 2.231529\n",
            "\n",
            "[EPOCH: 1], \tTest Loss: 0.0697, \tTest Accuracy: 15.48 %\n",
            "\n",
            "Train Epoch: 2 [0/60000(0%)]\tTrain Loss: 2.251117\n",
            "Train Epoch: 2 [6400/60000(11%)]\tTrain Loss: 2.202127\n",
            "Train Epoch: 2 [12800/60000(21%)]\tTrain Loss: 2.188488\n",
            "Train Epoch: 2 [19200/60000(32%)]\tTrain Loss: 2.087750\n",
            "Train Epoch: 2 [25600/60000(43%)]\tTrain Loss: 1.991727\n",
            "Train Epoch: 2 [32000/60000(53%)]\tTrain Loss: 1.833537\n",
            "Train Epoch: 2 [38400/60000(64%)]\tTrain Loss: 1.508980\n",
            "Train Epoch: 2 [44800/60000(75%)]\tTrain Loss: 1.518115\n",
            "Train Epoch: 2 [51200/60000(85%)]\tTrain Loss: 1.529475\n",
            "Train Epoch: 2 [57600/60000(96%)]\tTrain Loss: 1.378285\n",
            "\n",
            "[EPOCH: 2], \tTest Loss: 0.0378, \tTest Accuracy: 66.00 %\n",
            "\n",
            "Train Epoch: 3 [0/60000(0%)]\tTrain Loss: 1.157889\n",
            "Train Epoch: 3 [6400/60000(11%)]\tTrain Loss: 0.983601\n",
            "Train Epoch: 3 [12800/60000(21%)]\tTrain Loss: 1.248616\n",
            "Train Epoch: 3 [19200/60000(32%)]\tTrain Loss: 0.996064\n",
            "Train Epoch: 3 [25600/60000(43%)]\tTrain Loss: 0.831109\n",
            "Train Epoch: 3 [32000/60000(53%)]\tTrain Loss: 0.872207\n",
            "Train Epoch: 3 [38400/60000(64%)]\tTrain Loss: 0.693019\n",
            "Train Epoch: 3 [44800/60000(75%)]\tTrain Loss: 0.936786\n",
            "Train Epoch: 3 [51200/60000(85%)]\tTrain Loss: 0.956939\n",
            "Train Epoch: 3 [57600/60000(96%)]\tTrain Loss: 0.731073\n",
            "\n",
            "[EPOCH: 3], \tTest Loss: 0.0240, \tTest Accuracy: 76.06 %\n",
            "\n",
            "Train Epoch: 4 [0/60000(0%)]\tTrain Loss: 1.021956\n",
            "Train Epoch: 4 [6400/60000(11%)]\tTrain Loss: 0.878004\n",
            "Train Epoch: 4 [12800/60000(21%)]\tTrain Loss: 0.785642\n",
            "Train Epoch: 4 [19200/60000(32%)]\tTrain Loss: 0.621461\n",
            "Train Epoch: 4 [25600/60000(43%)]\tTrain Loss: 0.680893\n",
            "Train Epoch: 4 [32000/60000(53%)]\tTrain Loss: 0.351617\n",
            "Train Epoch: 4 [38400/60000(64%)]\tTrain Loss: 0.814116\n",
            "Train Epoch: 4 [44800/60000(75%)]\tTrain Loss: 0.538651\n",
            "Train Epoch: 4 [51200/60000(85%)]\tTrain Loss: 0.814780\n",
            "Train Epoch: 4 [57600/60000(96%)]\tTrain Loss: 0.812913\n",
            "\n",
            "[EPOCH: 4], \tTest Loss: 0.0180, \tTest Accuracy: 83.25 %\n",
            "\n",
            "Train Epoch: 5 [0/60000(0%)]\tTrain Loss: 0.716946\n",
            "Train Epoch: 5 [6400/60000(11%)]\tTrain Loss: 0.447418\n",
            "Train Epoch: 5 [12800/60000(21%)]\tTrain Loss: 0.602474\n",
            "Train Epoch: 5 [19200/60000(32%)]\tTrain Loss: 0.473064\n",
            "Train Epoch: 5 [25600/60000(43%)]\tTrain Loss: 0.701387\n",
            "Train Epoch: 5 [32000/60000(53%)]\tTrain Loss: 0.399237\n",
            "Train Epoch: 5 [38400/60000(64%)]\tTrain Loss: 0.542680\n",
            "Train Epoch: 5 [44800/60000(75%)]\tTrain Loss: 0.497635\n",
            "Train Epoch: 5 [51200/60000(85%)]\tTrain Loss: 0.445658\n",
            "Train Epoch: 5 [57600/60000(96%)]\tTrain Loss: 0.446590\n",
            "\n",
            "[EPOCH: 5], \tTest Loss: 0.0148, \tTest Accuracy: 86.12 %\n",
            "\n",
            "Train Epoch: 6 [0/60000(0%)]\tTrain Loss: 0.301911\n",
            "Train Epoch: 6 [6400/60000(11%)]\tTrain Loss: 0.257587\n",
            "Train Epoch: 6 [12800/60000(21%)]\tTrain Loss: 0.374760\n",
            "Train Epoch: 6 [19200/60000(32%)]\tTrain Loss: 0.634663\n",
            "Train Epoch: 6 [25600/60000(43%)]\tTrain Loss: 0.256825\n",
            "Train Epoch: 6 [32000/60000(53%)]\tTrain Loss: 0.469157\n",
            "Train Epoch: 6 [38400/60000(64%)]\tTrain Loss: 0.279419\n",
            "Train Epoch: 6 [44800/60000(75%)]\tTrain Loss: 0.428111\n",
            "Train Epoch: 6 [51200/60000(85%)]\tTrain Loss: 0.712786\n",
            "Train Epoch: 6 [57600/60000(96%)]\tTrain Loss: 0.442736\n",
            "\n",
            "[EPOCH: 6], \tTest Loss: 0.0130, \tTest Accuracy: 88.03 %\n",
            "\n",
            "Train Epoch: 7 [0/60000(0%)]\tTrain Loss: 0.499016\n",
            "Train Epoch: 7 [6400/60000(11%)]\tTrain Loss: 0.341816\n",
            "Train Epoch: 7 [12800/60000(21%)]\tTrain Loss: 0.269597\n",
            "Train Epoch: 7 [19200/60000(32%)]\tTrain Loss: 0.445679\n",
            "Train Epoch: 7 [25600/60000(43%)]\tTrain Loss: 0.508012\n",
            "Train Epoch: 7 [32000/60000(53%)]\tTrain Loss: 0.358056\n",
            "Train Epoch: 7 [38400/60000(64%)]\tTrain Loss: 0.413453\n",
            "Train Epoch: 7 [44800/60000(75%)]\tTrain Loss: 0.533139\n",
            "Train Epoch: 7 [51200/60000(85%)]\tTrain Loss: 0.441743\n",
            "Train Epoch: 7 [57600/60000(96%)]\tTrain Loss: 0.287265\n",
            "\n",
            "[EPOCH: 7], \tTest Loss: 0.0120, \tTest Accuracy: 88.85 %\n",
            "\n",
            "Train Epoch: 8 [0/60000(0%)]\tTrain Loss: 0.453143\n",
            "Train Epoch: 8 [6400/60000(11%)]\tTrain Loss: 0.588998\n",
            "Train Epoch: 8 [12800/60000(21%)]\tTrain Loss: 0.297721\n",
            "Train Epoch: 8 [19200/60000(32%)]\tTrain Loss: 0.272740\n",
            "Train Epoch: 8 [25600/60000(43%)]\tTrain Loss: 0.375299\n",
            "Train Epoch: 8 [32000/60000(53%)]\tTrain Loss: 0.469462\n",
            "Train Epoch: 8 [38400/60000(64%)]\tTrain Loss: 0.405724\n",
            "Train Epoch: 8 [44800/60000(75%)]\tTrain Loss: 0.341006\n",
            "Train Epoch: 8 [51200/60000(85%)]\tTrain Loss: 0.201253\n",
            "Train Epoch: 8 [57600/60000(96%)]\tTrain Loss: 0.341932\n",
            "\n",
            "[EPOCH: 8], \tTest Loss: 0.0113, \tTest Accuracy: 89.57 %\n",
            "\n",
            "Train Epoch: 9 [0/60000(0%)]\tTrain Loss: 0.393033\n",
            "Train Epoch: 9 [6400/60000(11%)]\tTrain Loss: 0.240148\n",
            "Train Epoch: 9 [12800/60000(21%)]\tTrain Loss: 0.427353\n",
            "Train Epoch: 9 [19200/60000(32%)]\tTrain Loss: 0.242465\n",
            "Train Epoch: 9 [25600/60000(43%)]\tTrain Loss: 0.280279\n",
            "Train Epoch: 9 [32000/60000(53%)]\tTrain Loss: 0.399753\n",
            "Train Epoch: 9 [38400/60000(64%)]\tTrain Loss: 0.232412\n",
            "Train Epoch: 9 [44800/60000(75%)]\tTrain Loss: 0.405418\n",
            "Train Epoch: 9 [51200/60000(85%)]\tTrain Loss: 0.220716\n",
            "Train Epoch: 9 [57600/60000(96%)]\tTrain Loss: 0.217558\n",
            "\n",
            "[EPOCH: 9], \tTest Loss: 0.0109, \tTest Accuracy: 89.87 %\n",
            "\n",
            "Train Epoch: 10 [0/60000(0%)]\tTrain Loss: 0.441725\n",
            "Train Epoch: 10 [6400/60000(11%)]\tTrain Loss: 0.218619\n",
            "Train Epoch: 10 [12800/60000(21%)]\tTrain Loss: 0.460257\n",
            "Train Epoch: 10 [19200/60000(32%)]\tTrain Loss: 0.244617\n",
            "Train Epoch: 10 [25600/60000(43%)]\tTrain Loss: 0.620835\n",
            "Train Epoch: 10 [32000/60000(53%)]\tTrain Loss: 0.173941\n",
            "Train Epoch: 10 [38400/60000(64%)]\tTrain Loss: 0.278059\n",
            "Train Epoch: 10 [44800/60000(75%)]\tTrain Loss: 0.331535\n",
            "Train Epoch: 10 [51200/60000(85%)]\tTrain Loss: 0.252423\n",
            "Train Epoch: 10 [57600/60000(96%)]\tTrain Loss: 0.632098\n",
            "\n",
            "[EPOCH: 10], \tTest Loss: 0.0105, \tTest Accuracy: 90.31 %\n",
            "\n"
          ]
        }
      ]
    },
    {
      "cell_type": "code",
      "source": [
        ""
      ],
      "metadata": {
        "id": "MKVCO-bFzm3s"
      },
      "execution_count": null,
      "outputs": []
    },
    {
      "cell_type": "code",
      "source": [
        ""
      ],
      "metadata": {
        "id": "ulfjmNxM6i3p"
      },
      "execution_count": null,
      "outputs": []
    },
    {
      "cell_type": "code",
      "source": [
        ""
      ],
      "metadata": {
        "id": "W-3JvlT66ivH"
      },
      "execution_count": null,
      "outputs": []
    }
  ]
}